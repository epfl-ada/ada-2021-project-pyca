{
 "cells": [
  {
   "cell_type": "code",
   "execution_count": 48,
   "metadata": {},
   "outputs": [],
   "source": [
    "import pandas as pd\n",
    "import matplotlib.pyplot as plt\n",
    "import seaborn as sb\n",
    "import numpy as np\n",
    "import scipy as sc"
   ]
  },
  {
   "cell_type": "markdown",
   "metadata": {},
   "source": [
    "## 1. Open datasets\n",
    "a. Quote data set\n",
    "(only quotes whose main speaker is part of a 2015-2020 movie crew)"
   ]
  },
  {
   "cell_type": "code",
   "execution_count": 49,
   "metadata": {},
   "outputs": [],
   "source": [
    "df_quotes = pd.DataFrame()\n",
    "start_year = 2015\n",
    "end_year = 2020\n",
    "for year in range(start_year,end_year + 1):\n",
    "    df_quotes = pd.concat((df_quotes,pd.read_csv(f\"../dataGitIgnore/mergedData/movie_{year}_crew_quotes.csv.gz\")))"
   ]
  },
  {
   "cell_type": "markdown",
   "metadata": {},
   "source": [
    "b. Movie data set"
   ]
  },
  {
   "cell_type": "code",
   "execution_count": 50,
   "metadata": {},
   "outputs": [],
   "source": [
    "df_movies = pd.read_csv(\"../moviePreprocessing/movie_data_2015_2020.csv\")\n",
    "df_movies[\"Total Gross\"] = pd.to_numeric(df_movies[\"Total Gross\"].apply(lambda x:x[1:].replace(\",\",\"\")))"
   ]
  },
  {
   "cell_type": "code",
   "execution_count": 51,
   "metadata": {},
   "outputs": [],
   "source": [
    "#keep relevant years\n",
    "df_movies = df_movies[(df_movies[\"Year\"]>= start_year )&(df_movies[\"Year\"]<=end_year)]\n",
    "#sort by Total gross\n",
    "df_movies = df_movies.sort_values([\"Total Gross\"],ascending=False)"
   ]
  },
  {
   "cell_type": "markdown",
   "metadata": {},
   "source": [
    "## 3. Merge data sets"
   ]
  },
  {
   "cell_type": "code",
   "execution_count": 52,
   "metadata": {},
   "outputs": [],
   "source": [
    "df = pd.merge(df_quotes,df_movies,how=\"inner\",left_on=\"speaker\",right_on=\"primaryName\")"
   ]
  },
  {
   "cell_type": "markdown",
   "metadata": {},
   "source": [
    "## 4. Compute and store number of days to release for each quote"
   ]
  },
  {
   "cell_type": "code",
   "execution_count": 53,
   "metadata": {},
   "outputs": [
    {
     "data": {
      "text/html": [
       "<div>\n",
       "<style scoped>\n",
       "    .dataframe tbody tr th:only-of-type {\n",
       "        vertical-align: middle;\n",
       "    }\n",
       "\n",
       "    .dataframe tbody tr th {\n",
       "        vertical-align: top;\n",
       "    }\n",
       "\n",
       "    .dataframe thead th {\n",
       "        text-align: right;\n",
       "    }\n",
       "</style>\n",
       "<table border=\"1\" class=\"dataframe\">\n",
       "  <thead>\n",
       "    <tr style=\"text-align: right;\">\n",
       "      <th></th>\n",
       "      <th>Unnamed: 0_x</th>\n",
       "      <th>quoteID</th>\n",
       "      <th>quotation</th>\n",
       "      <th>speaker</th>\n",
       "      <th>qids</th>\n",
       "      <th>date</th>\n",
       "      <th>numOccurrences</th>\n",
       "      <th>probas</th>\n",
       "      <th>urls</th>\n",
       "      <th>phase</th>\n",
       "      <th>...</th>\n",
       "      <th>category</th>\n",
       "      <th>job</th>\n",
       "      <th>characters</th>\n",
       "      <th>primaryName</th>\n",
       "      <th>birthYear</th>\n",
       "      <th>deathYear</th>\n",
       "      <th>primaryProfession</th>\n",
       "      <th>knownForTitles</th>\n",
       "      <th>Release_date_f</th>\n",
       "      <th>date_diff</th>\n",
       "    </tr>\n",
       "  </thead>\n",
       "  <tbody>\n",
       "    <tr>\n",
       "      <th>0</th>\n",
       "      <td>23</td>\n",
       "      <td>2015-03-25-025189</td>\n",
       "      <td>how were you able to get that cat to do what y...</td>\n",
       "      <td>Cate Blanchett</td>\n",
       "      <td>['Q80966']</td>\n",
       "      <td>2015-03-25</td>\n",
       "      <td>1</td>\n",
       "      <td>[['Cate Blanchett', '0.6709'], ['None', '0.329...</td>\n",
       "      <td>['http://www.pedestrian.tv/news/arts-and-cultu...</td>\n",
       "      <td>E</td>\n",
       "      <td>...</td>\n",
       "      <td>actress</td>\n",
       "      <td>NaN</td>\n",
       "      <td>[\"Hela\"]</td>\n",
       "      <td>Cate Blanchett</td>\n",
       "      <td>1969.0</td>\n",
       "      <td>NaN</td>\n",
       "      <td>actress,producer,writer</td>\n",
       "      <td>tt2402927,tt0127536,tt0167260,tt2334873</td>\n",
       "      <td>2017-11-03</td>\n",
       "      <td>954</td>\n",
       "    </tr>\n",
       "    <tr>\n",
       "      <th>2</th>\n",
       "      <td>23</td>\n",
       "      <td>2015-03-25-025189</td>\n",
       "      <td>how were you able to get that cat to do what y...</td>\n",
       "      <td>Cate Blanchett</td>\n",
       "      <td>['Q80966']</td>\n",
       "      <td>2015-03-25</td>\n",
       "      <td>1</td>\n",
       "      <td>[['Cate Blanchett', '0.6709'], ['None', '0.329...</td>\n",
       "      <td>['http://www.pedestrian.tv/news/arts-and-cultu...</td>\n",
       "      <td>E</td>\n",
       "      <td>...</td>\n",
       "      <td>actress</td>\n",
       "      <td>NaN</td>\n",
       "      <td>[\"Valka\"]</td>\n",
       "      <td>Cate Blanchett</td>\n",
       "      <td>1969.0</td>\n",
       "      <td>NaN</td>\n",
       "      <td>actress,producer,writer</td>\n",
       "      <td>tt2402927,tt0127536,tt0167260,tt2334873</td>\n",
       "      <td>2019-02-22</td>\n",
       "      <td>1430</td>\n",
       "    </tr>\n",
       "    <tr>\n",
       "      <th>3</th>\n",
       "      <td>23</td>\n",
       "      <td>2015-03-25-025189</td>\n",
       "      <td>how were you able to get that cat to do what y...</td>\n",
       "      <td>Cate Blanchett</td>\n",
       "      <td>['Q80966']</td>\n",
       "      <td>2015-03-25</td>\n",
       "      <td>1</td>\n",
       "      <td>[['Cate Blanchett', '0.6709'], ['None', '0.329...</td>\n",
       "      <td>['http://www.pedestrian.tv/news/arts-and-cultu...</td>\n",
       "      <td>E</td>\n",
       "      <td>...</td>\n",
       "      <td>actress</td>\n",
       "      <td>NaN</td>\n",
       "      <td>[\"Lou\"]</td>\n",
       "      <td>Cate Blanchett</td>\n",
       "      <td>1969.0</td>\n",
       "      <td>NaN</td>\n",
       "      <td>actress,producer,writer</td>\n",
       "      <td>tt2402927,tt0127536,tt0167260,tt2334873</td>\n",
       "      <td>2018-06-08</td>\n",
       "      <td>1171</td>\n",
       "    </tr>\n",
       "    <tr>\n",
       "      <th>4</th>\n",
       "      <td>23</td>\n",
       "      <td>2015-03-25-025189</td>\n",
       "      <td>how were you able to get that cat to do what y...</td>\n",
       "      <td>Cate Blanchett</td>\n",
       "      <td>['Q80966']</td>\n",
       "      <td>2015-03-25</td>\n",
       "      <td>1</td>\n",
       "      <td>[['Cate Blanchett', '0.6709'], ['None', '0.329...</td>\n",
       "      <td>['http://www.pedestrian.tv/news/arts-and-cultu...</td>\n",
       "      <td>E</td>\n",
       "      <td>...</td>\n",
       "      <td>actress</td>\n",
       "      <td>NaN</td>\n",
       "      <td>[\"Florence Zimmerman\"]</td>\n",
       "      <td>Cate Blanchett</td>\n",
       "      <td>1969.0</td>\n",
       "      <td>NaN</td>\n",
       "      <td>actress,producer,writer</td>\n",
       "      <td>tt2402927,tt0127536,tt0167260,tt2334873</td>\n",
       "      <td>2018-09-21</td>\n",
       "      <td>1276</td>\n",
       "    </tr>\n",
       "    <tr>\n",
       "      <th>6</th>\n",
       "      <td>23</td>\n",
       "      <td>2015-03-25-025189</td>\n",
       "      <td>how were you able to get that cat to do what y...</td>\n",
       "      <td>Cate Blanchett</td>\n",
       "      <td>['Q80966']</td>\n",
       "      <td>2015-03-25</td>\n",
       "      <td>1</td>\n",
       "      <td>[['Cate Blanchett', '0.6709'], ['None', '0.329...</td>\n",
       "      <td>['http://www.pedestrian.tv/news/arts-and-cultu...</td>\n",
       "      <td>E</td>\n",
       "      <td>...</td>\n",
       "      <td>actress</td>\n",
       "      <td>NaN</td>\n",
       "      <td>[\"Bernadette\"]</td>\n",
       "      <td>Cate Blanchett</td>\n",
       "      <td>1969.0</td>\n",
       "      <td>NaN</td>\n",
       "      <td>actress,producer,writer</td>\n",
       "      <td>tt2402927,tt0127536,tt0167260,tt2334873</td>\n",
       "      <td>2019-08-16</td>\n",
       "      <td>1605</td>\n",
       "    </tr>\n",
       "  </tbody>\n",
       "</table>\n",
       "<p>5 rows × 51 columns</p>\n",
       "</div>"
      ],
      "text/plain": [
       "   Unnamed: 0_x            quoteID  \\\n",
       "0            23  2015-03-25-025189   \n",
       "2            23  2015-03-25-025189   \n",
       "3            23  2015-03-25-025189   \n",
       "4            23  2015-03-25-025189   \n",
       "6            23  2015-03-25-025189   \n",
       "\n",
       "                                           quotation         speaker  \\\n",
       "0  how were you able to get that cat to do what y...  Cate Blanchett   \n",
       "2  how were you able to get that cat to do what y...  Cate Blanchett   \n",
       "3  how were you able to get that cat to do what y...  Cate Blanchett   \n",
       "4  how were you able to get that cat to do what y...  Cate Blanchett   \n",
       "6  how were you able to get that cat to do what y...  Cate Blanchett   \n",
       "\n",
       "         qids       date  numOccurrences  \\\n",
       "0  ['Q80966'] 2015-03-25               1   \n",
       "2  ['Q80966'] 2015-03-25               1   \n",
       "3  ['Q80966'] 2015-03-25               1   \n",
       "4  ['Q80966'] 2015-03-25               1   \n",
       "6  ['Q80966'] 2015-03-25               1   \n",
       "\n",
       "                                              probas  \\\n",
       "0  [['Cate Blanchett', '0.6709'], ['None', '0.329...   \n",
       "2  [['Cate Blanchett', '0.6709'], ['None', '0.329...   \n",
       "3  [['Cate Blanchett', '0.6709'], ['None', '0.329...   \n",
       "4  [['Cate Blanchett', '0.6709'], ['None', '0.329...   \n",
       "6  [['Cate Blanchett', '0.6709'], ['None', '0.329...   \n",
       "\n",
       "                                                urls phase  ...  category  \\\n",
       "0  ['http://www.pedestrian.tv/news/arts-and-cultu...     E  ...   actress   \n",
       "2  ['http://www.pedestrian.tv/news/arts-and-cultu...     E  ...   actress   \n",
       "3  ['http://www.pedestrian.tv/news/arts-and-cultu...     E  ...   actress   \n",
       "4  ['http://www.pedestrian.tv/news/arts-and-cultu...     E  ...   actress   \n",
       "6  ['http://www.pedestrian.tv/news/arts-and-cultu...     E  ...   actress   \n",
       "\n",
       "   job              characters     primaryName birthYear  deathYear  \\\n",
       "0  NaN                [\"Hela\"]  Cate Blanchett    1969.0        NaN   \n",
       "2  NaN               [\"Valka\"]  Cate Blanchett    1969.0        NaN   \n",
       "3  NaN                 [\"Lou\"]  Cate Blanchett    1969.0        NaN   \n",
       "4  NaN  [\"Florence Zimmerman\"]  Cate Blanchett    1969.0        NaN   \n",
       "6  NaN          [\"Bernadette\"]  Cate Blanchett    1969.0        NaN   \n",
       "\n",
       "         primaryProfession                           knownForTitles  \\\n",
       "0  actress,producer,writer  tt2402927,tt0127536,tt0167260,tt2334873   \n",
       "2  actress,producer,writer  tt2402927,tt0127536,tt0167260,tt2334873   \n",
       "3  actress,producer,writer  tt2402927,tt0127536,tt0167260,tt2334873   \n",
       "4  actress,producer,writer  tt2402927,tt0127536,tt0167260,tt2334873   \n",
       "6  actress,producer,writer  tt2402927,tt0127536,tt0167260,tt2334873   \n",
       "\n",
       "   Release_date_f date_diff  \n",
       "0      2017-11-03       954  \n",
       "2      2019-02-22      1430  \n",
       "3      2018-06-08      1171  \n",
       "4      2018-09-21      1276  \n",
       "6      2019-08-16      1605  \n",
       "\n",
       "[5 rows x 51 columns]"
      ]
     },
     "execution_count": 53,
     "metadata": {},
     "output_type": "execute_result"
    }
   ],
   "source": [
    "df[\"Release_date_f\"] = df[\"Release Date\"]+\", \"+df[\"Year\"].astype(int).astype(str)\n",
    "df[\"Release_date_f\"] = pd.to_datetime(df[\"Release_date_f\"])\n",
    "df[\"date\"] = df[\"date\"].values.astype('datetime64[D]')\n",
    "df[\"date_diff\"] = (df[\"Release_date_f\"] - df[\"date\"]).dt.days\n",
    "#df = df[(df[\"startYear\"]>= start_year )&(df[\"startYear\"]<=end_year)]\n",
    "df = df[(df[\"Year\"]>= 2016.0 )&(df[\"Year\"]<= 2019.0)]\n",
    "df.head()"
   ]
  },
  {
   "cell_type": "markdown",
   "metadata": {},
   "source": [
    "## 5. Aggregation: count per movie per date_diff"
   ]
  },
  {
   "cell_type": "code",
   "execution_count": 79,
   "metadata": {},
   "outputs": [
    {
     "data": {
      "text/html": [
       "<div>\n",
       "<style scoped>\n",
       "    .dataframe tbody tr th:only-of-type {\n",
       "        vertical-align: middle;\n",
       "    }\n",
       "\n",
       "    .dataframe tbody tr th {\n",
       "        vertical-align: top;\n",
       "    }\n",
       "\n",
       "    .dataframe thead th {\n",
       "        text-align: right;\n",
       "    }\n",
       "</style>\n",
       "<table border=\"1\" class=\"dataframe\">\n",
       "  <thead>\n",
       "    <tr style=\"text-align: right;\">\n",
       "      <th></th>\n",
       "      <th>primaryTitle</th>\n",
       "      <th>date_diff</th>\n",
       "      <th>numOccurrences</th>\n",
       "      <th>Genre</th>\n",
       "    </tr>\n",
       "  </thead>\n",
       "  <tbody>\n",
       "    <tr>\n",
       "      <th>0</th>\n",
       "      <td>10 Cloverfield Lane</td>\n",
       "      <td>-1497</td>\n",
       "      <td>1</td>\n",
       "      <td>-</td>\n",
       "    </tr>\n",
       "    <tr>\n",
       "      <th>1</th>\n",
       "      <td>10 Cloverfield Lane</td>\n",
       "      <td>-1490</td>\n",
       "      <td>3</td>\n",
       "      <td>-</td>\n",
       "    </tr>\n",
       "    <tr>\n",
       "      <th>2</th>\n",
       "      <td>10 Cloverfield Lane</td>\n",
       "      <td>-1488</td>\n",
       "      <td>1</td>\n",
       "      <td>-</td>\n",
       "    </tr>\n",
       "    <tr>\n",
       "      <th>3</th>\n",
       "      <td>10 Cloverfield Lane</td>\n",
       "      <td>-1483</td>\n",
       "      <td>3</td>\n",
       "      <td>-</td>\n",
       "    </tr>\n",
       "    <tr>\n",
       "      <th>4</th>\n",
       "      <td>10 Cloverfield Lane</td>\n",
       "      <td>-1482</td>\n",
       "      <td>1</td>\n",
       "      <td>-</td>\n",
       "    </tr>\n",
       "  </tbody>\n",
       "</table>\n",
       "</div>"
      ],
      "text/plain": [
       "          primaryTitle  date_diff  numOccurrences Genre\n",
       "0  10 Cloverfield Lane      -1497               1     -\n",
       "1  10 Cloverfield Lane      -1490               3     -\n",
       "2  10 Cloverfield Lane      -1488               1     -\n",
       "3  10 Cloverfield Lane      -1483               3     -\n",
       "4  10 Cloverfield Lane      -1482               1     -"
      ]
     },
     "execution_count": 79,
     "metadata": {},
     "output_type": "execute_result"
    }
   ],
   "source": [
    "df_agg = df.groupby([\"primaryTitle\",\"date_diff\"],as_index=False).agg({'primaryTitle': 'first', 'date_diff': 'first','numOccurrences': 'count','Genre':'first'})\n",
    "df_agg.head()"
   ]
  },
  {
   "cell_type": "markdown",
   "metadata": {},
   "source": [
    "## 6. Press activity around release date"
   ]
  },
  {
   "cell_type": "code",
   "execution_count": 77,
   "metadata": {},
   "outputs": [
    {
     "ename": "KeyError",
     "evalue": "'Genre'",
     "output_type": "error",
     "traceback": [
      "\u001b[0;31m---------------------------------------------------------------------------\u001b[0m",
      "\u001b[0;31mKeyError\u001b[0m                                  Traceback (most recent call last)",
      "\u001b[0;32m/var/folders/ps/1m_sqz1s639d3_5z340t63h00000gn/T/ipykernel_36532/863364231.py\u001b[0m in \u001b[0;36m<module>\u001b[0;34m\u001b[0m\n\u001b[1;32m      1\u001b[0m \u001b[0mplt\u001b[0m\u001b[0;34m.\u001b[0m\u001b[0mfigure\u001b[0m\u001b[0;34m(\u001b[0m\u001b[0mfigsize\u001b[0m\u001b[0;34m=\u001b[0m\u001b[0;34m(\u001b[0m\u001b[0;36m14\u001b[0m\u001b[0;34m,\u001b[0m\u001b[0;36m4\u001b[0m\u001b[0;34m)\u001b[0m\u001b[0;34m)\u001b[0m\u001b[0;34m\u001b[0m\u001b[0;34m\u001b[0m\u001b[0m\n\u001b[1;32m      2\u001b[0m \u001b[0mplt\u001b[0m\u001b[0;34m.\u001b[0m\u001b[0msubplot\u001b[0m\u001b[0;34m(\u001b[0m\u001b[0;36m1\u001b[0m\u001b[0;34m,\u001b[0m\u001b[0;36m2\u001b[0m\u001b[0;34m,\u001b[0m\u001b[0;36m1\u001b[0m\u001b[0;34m)\u001b[0m\u001b[0;34m\u001b[0m\u001b[0;34m\u001b[0m\u001b[0m\n\u001b[0;32m----> 3\u001b[0;31m \u001b[0mdf_agg_tot\u001b[0m \u001b[0;34m=\u001b[0m \u001b[0mdf_agg\u001b[0m\u001b[0;34m.\u001b[0m\u001b[0mgroupby\u001b[0m\u001b[0;34m(\u001b[0m\u001b[0;34m[\u001b[0m\u001b[0;34m\"date_diff\"\u001b[0m\u001b[0;34m,\u001b[0m\u001b[0;34m\"Genre\"\u001b[0m\u001b[0;34m]\u001b[0m\u001b[0;34m)\u001b[0m\u001b[0;34m.\u001b[0m\u001b[0msum\u001b[0m\u001b[0;34m(\u001b[0m\u001b[0;34m)\u001b[0m\u001b[0;34m[\u001b[0m\u001b[0;34m[\u001b[0m\u001b[0;34m\"numOccurrences\"\u001b[0m\u001b[0;34m,\u001b[0m\u001b[0;34m\"Genre\"\u001b[0m\u001b[0;34m]\u001b[0m\u001b[0;34m]\u001b[0m\u001b[0;34m\u001b[0m\u001b[0;34m\u001b[0m\u001b[0m\n\u001b[0m\u001b[1;32m      4\u001b[0m \u001b[0mdf_agg_tot\u001b[0m \u001b[0;34m=\u001b[0m \u001b[0mdf_agg_tot\u001b[0m\u001b[0;34m.\u001b[0m\u001b[0mreset_index\u001b[0m\u001b[0;34m(\u001b[0m\u001b[0;34m)\u001b[0m\u001b[0;34m\u001b[0m\u001b[0;34m\u001b[0m\u001b[0m\n\u001b[1;32m      5\u001b[0m \u001b[0msb\u001b[0m\u001b[0;34m.\u001b[0m\u001b[0mlineplot\u001b[0m\u001b[0;34m(\u001b[0m\u001b[0mx\u001b[0m\u001b[0;34m=\u001b[0m\u001b[0;34m\"date_diff\"\u001b[0m\u001b[0;34m,\u001b[0m\u001b[0my\u001b[0m\u001b[0;34m=\u001b[0m\u001b[0;34m\"numOccurrences\"\u001b[0m\u001b[0;34m,\u001b[0m\u001b[0mdata\u001b[0m\u001b[0;34m=\u001b[0m\u001b[0mdf_agg_tot\u001b[0m\u001b[0;34m,\u001b[0m\u001b[0mhue\u001b[0m\u001b[0;34m=\u001b[0m\u001b[0;34m\"Genre\"\u001b[0m\u001b[0;34m)\u001b[0m\u001b[0;34m\u001b[0m\u001b[0;34m\u001b[0m\u001b[0m\n",
      "\u001b[0;32m~/opt/anaconda3/envs/ada/lib/python3.8/site-packages/pandas/core/frame.py\u001b[0m in \u001b[0;36mgroupby\u001b[0;34m(self, by, axis, level, as_index, sort, group_keys, squeeze, observed, dropna)\u001b[0m\n\u001b[1;32m   7629\u001b[0m         \u001b[0;31m# error: Argument \"squeeze\" to \"DataFrameGroupBy\" has incompatible type\u001b[0m\u001b[0;34m\u001b[0m\u001b[0;34m\u001b[0m\u001b[0;34m\u001b[0m\u001b[0m\n\u001b[1;32m   7630\u001b[0m         \u001b[0;31m# \"Union[bool, NoDefault]\"; expected \"bool\"\u001b[0m\u001b[0;34m\u001b[0m\u001b[0;34m\u001b[0m\u001b[0;34m\u001b[0m\u001b[0m\n\u001b[0;32m-> 7631\u001b[0;31m         return DataFrameGroupBy(\n\u001b[0m\u001b[1;32m   7632\u001b[0m             \u001b[0mobj\u001b[0m\u001b[0;34m=\u001b[0m\u001b[0mself\u001b[0m\u001b[0;34m,\u001b[0m\u001b[0;34m\u001b[0m\u001b[0;34m\u001b[0m\u001b[0m\n\u001b[1;32m   7633\u001b[0m             \u001b[0mkeys\u001b[0m\u001b[0;34m=\u001b[0m\u001b[0mby\u001b[0m\u001b[0;34m,\u001b[0m\u001b[0;34m\u001b[0m\u001b[0;34m\u001b[0m\u001b[0m\n",
      "\u001b[0;32m~/opt/anaconda3/envs/ada/lib/python3.8/site-packages/pandas/core/groupby/groupby.py\u001b[0m in \u001b[0;36m__init__\u001b[0;34m(self, obj, keys, axis, level, grouper, exclusions, selection, as_index, sort, group_keys, squeeze, observed, mutated, dropna)\u001b[0m\n\u001b[1;32m    887\u001b[0m             \u001b[0;32mfrom\u001b[0m \u001b[0mpandas\u001b[0m\u001b[0;34m.\u001b[0m\u001b[0mcore\u001b[0m\u001b[0;34m.\u001b[0m\u001b[0mgroupby\u001b[0m\u001b[0;34m.\u001b[0m\u001b[0mgrouper\u001b[0m \u001b[0;32mimport\u001b[0m \u001b[0mget_grouper\u001b[0m\u001b[0;34m\u001b[0m\u001b[0;34m\u001b[0m\u001b[0m\n\u001b[1;32m    888\u001b[0m \u001b[0;34m\u001b[0m\u001b[0m\n\u001b[0;32m--> 889\u001b[0;31m             grouper, exclusions, obj = get_grouper(\n\u001b[0m\u001b[1;32m    890\u001b[0m                 \u001b[0mobj\u001b[0m\u001b[0;34m,\u001b[0m\u001b[0;34m\u001b[0m\u001b[0;34m\u001b[0m\u001b[0m\n\u001b[1;32m    891\u001b[0m                 \u001b[0mkeys\u001b[0m\u001b[0;34m,\u001b[0m\u001b[0;34m\u001b[0m\u001b[0;34m\u001b[0m\u001b[0m\n",
      "\u001b[0;32m~/opt/anaconda3/envs/ada/lib/python3.8/site-packages/pandas/core/groupby/grouper.py\u001b[0m in \u001b[0;36mget_grouper\u001b[0;34m(obj, key, axis, level, sort, observed, mutated, validate, dropna)\u001b[0m\n\u001b[1;32m    860\u001b[0m                 \u001b[0min_axis\u001b[0m\u001b[0;34m,\u001b[0m \u001b[0mlevel\u001b[0m\u001b[0;34m,\u001b[0m \u001b[0mgpr\u001b[0m \u001b[0;34m=\u001b[0m \u001b[0;32mFalse\u001b[0m\u001b[0;34m,\u001b[0m \u001b[0mgpr\u001b[0m\u001b[0;34m,\u001b[0m \u001b[0;32mNone\u001b[0m\u001b[0;34m\u001b[0m\u001b[0;34m\u001b[0m\u001b[0m\n\u001b[1;32m    861\u001b[0m             \u001b[0;32melse\u001b[0m\u001b[0;34m:\u001b[0m\u001b[0;34m\u001b[0m\u001b[0;34m\u001b[0m\u001b[0m\n\u001b[0;32m--> 862\u001b[0;31m                 \u001b[0;32mraise\u001b[0m \u001b[0mKeyError\u001b[0m\u001b[0;34m(\u001b[0m\u001b[0mgpr\u001b[0m\u001b[0;34m)\u001b[0m\u001b[0;34m\u001b[0m\u001b[0;34m\u001b[0m\u001b[0m\n\u001b[0m\u001b[1;32m    863\u001b[0m         \u001b[0;32melif\u001b[0m \u001b[0misinstance\u001b[0m\u001b[0;34m(\u001b[0m\u001b[0mgpr\u001b[0m\u001b[0;34m,\u001b[0m \u001b[0mGrouper\u001b[0m\u001b[0;34m)\u001b[0m \u001b[0;32mand\u001b[0m \u001b[0mgpr\u001b[0m\u001b[0;34m.\u001b[0m\u001b[0mkey\u001b[0m \u001b[0;32mis\u001b[0m \u001b[0;32mnot\u001b[0m \u001b[0;32mNone\u001b[0m\u001b[0;34m:\u001b[0m\u001b[0;34m\u001b[0m\u001b[0;34m\u001b[0m\u001b[0m\n\u001b[1;32m    864\u001b[0m             \u001b[0;31m# Add key to exclusions\u001b[0m\u001b[0;34m\u001b[0m\u001b[0;34m\u001b[0m\u001b[0;34m\u001b[0m\u001b[0m\n",
      "\u001b[0;31mKeyError\u001b[0m: 'Genre'"
     ]
    },
    {
     "data": {
      "image/png": "[encoded data removed]",
      "text/plain": [
       "<Figure size 1008x288 with 1 Axes>"
      ]
     },
     "metadata": {
      "needs_background": "light"
     },
     "output_type": "display_data"
    }
   ],
   "source": [
    "plt.figure(figsize=(14,4))\n",
    "plt.subplot(1,2,1)\n",
    "df_agg_tot = df_agg.groupby([\"date_diff\"]).sum()[[\"numOccurrences\"]]\n",
    "df_agg_tot = df_agg_tot.reset_index()\n",
    "sb.lineplot(x=\"date_diff\",y=\"numOccurrences\",data=df_agg_tot,hue=\"Genre\")\n",
    "plt.xlabel(\"days after release\")\n",
    "plt.ylabel(\"related quotes\")\n",
    "plt.title(\"Zoom out\")\n",
    "plt.grid()\n",
    "plt.xlim(-500,500)\n",
    "\n",
    "plt.subplot(1,2,2)\n",
    "sb.lineplot(x=\"date_diff\",y=\"numOccurrences\",data=df_agg_tot)\n",
    "plt.xlabel(\"days after release\")\n",
    "plt.ylabel(\"related quotes\")\n",
    "plt.grid()\n",
    "plt.xlim(-60,60)\n",
    "plt.title(\"Zoom in\")\n",
    "plt.suptitle(f\"Quotes whose speaker where in the top US movies main crew ({start_year+1}:{end_year-1})\")\n",
    "plt.savefig(\"quotes_around_release.png\")"
   ]
  },
  {
   "cell_type": "markdown",
   "metadata": {},
   "source": [
    "## 7 Correlation Box office - quotes counts"
   ]
  },
  {
   "cell_type": "code",
   "execution_count": 130,
   "metadata": {},
   "outputs": [
    {
     "data": {
      "text/html": [
       "<div>\n",
       "<style scoped>\n",
       "    .dataframe tbody tr th:only-of-type {\n",
       "        vertical-align: middle;\n",
       "    }\n",
       "\n",
       "    .dataframe tbody tr th {\n",
       "        vertical-align: top;\n",
       "    }\n",
       "\n",
       "    .dataframe thead th {\n",
       "        text-align: right;\n",
       "    }\n",
       "</style>\n",
       "<table border=\"1\" class=\"dataframe\">\n",
       "  <thead>\n",
       "    <tr style=\"text-align: right;\">\n",
       "      <th></th>\n",
       "      <th>primaryTitle</th>\n",
       "      <th>Total Gross</th>\n",
       "      <th>numOccurrences</th>\n",
       "      <th>Year</th>\n",
       "      <th>log_numOccurrences</th>\n",
       "      <th>log_Total Gross</th>\n",
       "    </tr>\n",
       "  </thead>\n",
       "  <tbody>\n",
       "    <tr>\n",
       "      <th>1</th>\n",
       "      <td>12 Strong</td>\n",
       "      <td>45819713</td>\n",
       "      <td>259</td>\n",
       "      <td>2018.0</td>\n",
       "      <td>5.556828</td>\n",
       "      <td>17.640225</td>\n",
       "    </tr>\n",
       "    <tr>\n",
       "      <th>3</th>\n",
       "      <td>2.0</td>\n",
       "      <td>4152000</td>\n",
       "      <td>117</td>\n",
       "      <td>2018.0</td>\n",
       "      <td>4.762174</td>\n",
       "      <td>15.239101</td>\n",
       "    </tr>\n",
       "    <tr>\n",
       "      <th>4</th>\n",
       "      <td>20th Century Women</td>\n",
       "      <td>5664764</td>\n",
       "      <td>48</td>\n",
       "      <td>2017.0</td>\n",
       "      <td>3.871201</td>\n",
       "      <td>15.549776</td>\n",
       "    </tr>\n",
       "    <tr>\n",
       "      <th>5</th>\n",
       "      <td>21 Bridges</td>\n",
       "      <td>28539757</td>\n",
       "      <td>177</td>\n",
       "      <td>2019.0</td>\n",
       "      <td>5.176150</td>\n",
       "      <td>17.166809</td>\n",
       "    </tr>\n",
       "    <tr>\n",
       "      <th>7</th>\n",
       "      <td>47 Meters Down</td>\n",
       "      <td>44307191</td>\n",
       "      <td>167</td>\n",
       "      <td>2017.0</td>\n",
       "      <td>5.117994</td>\n",
       "      <td>17.606658</td>\n",
       "    </tr>\n",
       "  </tbody>\n",
       "</table>\n",
       "</div>"
      ],
      "text/plain": [
       "         primaryTitle  Total Gross  numOccurrences    Year  \\\n",
       "1           12 Strong     45819713             259  2018.0   \n",
       "3                 2.0      4152000             117  2018.0   \n",
       "4  20th Century Women      5664764              48  2017.0   \n",
       "5          21 Bridges     28539757             177  2019.0   \n",
       "7      47 Meters Down     44307191             167  2017.0   \n",
       "\n",
       "   log_numOccurrences  log_Total Gross  \n",
       "1            5.556828        17.640225  \n",
       "3            4.762174        15.239101  \n",
       "4            3.871201        15.549776  \n",
       "5            5.176150        17.166809  \n",
       "7            5.117994        17.606658  "
      ]
     },
     "execution_count": 130,
     "metadata": {},
     "output_type": "execute_result"
    }
   ],
   "source": [
    "date_diff_treshold = 4\n",
    "count_treshold = 10\n",
    "df_agg_movie = df[(df[\"date_diff\"].abs()<date_diff_treshold)].groupby([\"primaryTitle\"],as_index=False).agg({'primaryTitle': 'first', 'Total Gross': 'first','numOccurrences': 'count','Year':'first'})\n",
    "\n",
    "df_agg_movie = df_agg_movie[df_agg_movie[\"numOccurrences\"]>count_treshold]\n",
    "df_agg_movie[\"log_numOccurrences\"] = np.log(df_agg_movie[\"numOccurrences\"])\n",
    "df_agg_movie[\"log_Total Gross\"] = np.log(df_agg_movie[\"Total Gross\"])\n",
    "df_agg_movie.head()"
   ]
  },
  {
   "cell_type": "code",
   "execution_count": 129,
   "metadata": {},
   "outputs": [
    {
     "data": {
      "image/png": "[encoded data removed]",
      "text/plain": [
       "<Figure size 432x288 with 1 Axes>"
      ]
     },
     "metadata": {
      "needs_background": "light"
     },
     "output_type": "display_data"
    }
   ],
   "source": [
    "sb.scatterplot(x=\"numOccurrences\",y=\"Total Gross\",data=df_agg_movie,hue=\"Year\")\n",
    "plt.xlabel(\"#Quotes by movie main crew during the week around the release\")\n",
    "plt.ylabel(\"Total Gross ($)\")\n",
    "plt.yscale(\"log\")\n",
    "plt.xscale(\"log\")\n",
    "#Spearman Correlation\n",
    "a = sc.stats.spearmanr(df_agg_movie[\"numOccurrences\"],df_agg_movie[\"Total Gross\"])\n",
    "\n",
    "plt.title(f\"Spearman correlation coefficient {a[0]:.2f} - p-value {a[1]:.1e}\")\n",
    "plt.suptitle(\"Gross Vs Press activity\") \n",
    "plt.savefig(\"gross_vs_occurrences.png\")\n",
    "plt.grid()\n"
   ]
  },
  {
   "cell_type": "code",
   "execution_count": null,
   "metadata": {},
   "outputs": [],
   "source": []
  }
 ],
 "metadata": {
  "interpreter": {
   "hash": "535feb9148a04feb856e0fc880ebc8e4dd5554d5a3f65f80ac0547368bdbd739"
  },
  "kernelspec": {
   "display_name": "Python 3.8.11 64-bit ('ada': conda)",
   "name": "python3"
  },
  "language_info": {
   "codemirror_mode": {
    "name": "ipython",
    "version": 3
   },
   "file_extension": ".py",
   "mimetype": "text/x-python",
   "name": "python",
   "nbconvert_exporter": "python",
   "pygments_lexer": "ipython3",
   "version": "3.8.11"
  },
  "orig_nbformat": 4
 },
 "nbformat": 4,
 "nbformat_minor": 2
}
