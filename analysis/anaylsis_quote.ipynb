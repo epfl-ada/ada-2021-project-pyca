{
 "cells": [
  {
   "cell_type": "code",
   "execution_count": 1,
   "metadata": {},
   "outputs": [],
   "source": [
    "import pandas as pd\n",
    "import matplotlib.pyplot as plt\n",
    "import seaborn as sb\n",
    "import numpy as np"
   ]
  },
  {
   "cell_type": "markdown",
   "metadata": {},
   "source": [
    "## 1. Open datasets\n",
    "a. Quote data set\n",
    "(only quotes whose main speaker is part of a 2015-2020 movie crew)"
   ]
  },
  {
   "cell_type": "code",
   "execution_count": 23,
   "metadata": {},
   "outputs": [],
   "source": [
    "df_quotes = pd.DataFrame()\n",
    "start_year = 2015\n",
    "end_year = 2020\n",
    "for year in range(start_year,end_year + 1):\n",
    "    df_quotes = pd.concat((df_quotes,pd.read_csv(f\"../dataGitIgnore/mergedData/movie_{year}_crew_quotes.csv.gz\")))"
   ]
  },
  {
   "cell_type": "markdown",
   "metadata": {},
   "source": [
    "b. Movie data set"
   ]
  },
  {
   "cell_type": "code",
   "execution_count": 58,
   "metadata": {},
   "outputs": [],
   "source": [
    "df_movies = pd.read_csv(\"../moviePreprocessing/movie_data_2015_2020.csv\")\n",
    "df_movies[\"Total Gross\"] = pd.to_numeric(df_movies[\"Total Gross\"].apply(lambda x:x[1:].replace(\",\",\"\")))"
   ]
  },
  {
   "cell_type": "code",
   "execution_count": 59,
   "metadata": {},
   "outputs": [],
   "source": [
    "#keep relevant years\n",
    "df_movies = df_movies[(df_movies[\"startYear\"]>= start_year )&(df_movies[\"startYear\"]<=end_year)]\n",
    "#sort by Total gross\n",
    "df_movies = df_movies.sort_values([\"Total Gross\"],ascending=False)"
   ]
  },
  {
   "cell_type": "markdown",
   "metadata": {},
   "source": [
    "## 3. Merge data sets"
   ]
  },
  {
   "cell_type": "code",
   "execution_count": 60,
   "metadata": {},
   "outputs": [],
   "source": [
    "df = pd.merge(df_quotes,df_movies,how=\"inner\",left_on=\"speaker\",right_on=\"primaryName\")"
   ]
  },
  {
   "cell_type": "markdown",
   "metadata": {},
   "source": [
    "## 4. Compute and store number of days to release for each quote"
   ]
  },
  {
   "cell_type": "code",
   "execution_count": 61,
   "metadata": {},
   "outputs": [
    {
     "data": {
      "text/html": [
       "<div>\n",
       "<style scoped>\n",
       "    .dataframe tbody tr th:only-of-type {\n",
       "        vertical-align: middle;\n",
       "    }\n",
       "\n",
       "    .dataframe tbody tr th {\n",
       "        vertical-align: top;\n",
       "    }\n",
       "\n",
       "    .dataframe thead th {\n",
       "        text-align: right;\n",
       "    }\n",
       "</style>\n",
       "<table border=\"1\" class=\"dataframe\">\n",
       "  <thead>\n",
       "    <tr style=\"text-align: right;\">\n",
       "      <th></th>\n",
       "      <th>Unnamed: 0_x</th>\n",
       "      <th>quoteID</th>\n",
       "      <th>quotation</th>\n",
       "      <th>speaker</th>\n",
       "      <th>qids</th>\n",
       "      <th>date</th>\n",
       "      <th>numOccurrences</th>\n",
       "      <th>probas</th>\n",
       "      <th>urls</th>\n",
       "      <th>phase</th>\n",
       "      <th>...</th>\n",
       "      <th>category</th>\n",
       "      <th>job</th>\n",
       "      <th>characters</th>\n",
       "      <th>primaryName</th>\n",
       "      <th>birthYear</th>\n",
       "      <th>deathYear</th>\n",
       "      <th>primaryProfession</th>\n",
       "      <th>knownForTitles</th>\n",
       "      <th>Release_date_f</th>\n",
       "      <th>date_diff</th>\n",
       "    </tr>\n",
       "  </thead>\n",
       "  <tbody>\n",
       "    <tr>\n",
       "      <th>0</th>\n",
       "      <td>23</td>\n",
       "      <td>2015-03-25-025189</td>\n",
       "      <td>how were you able to get that cat to do what y...</td>\n",
       "      <td>Cate Blanchett</td>\n",
       "      <td>['Q80966']</td>\n",
       "      <td>2015-03-25</td>\n",
       "      <td>1</td>\n",
       "      <td>[['Cate Blanchett', '0.6709'], ['None', '0.329...</td>\n",
       "      <td>['http://www.pedestrian.tv/news/arts-and-cultu...</td>\n",
       "      <td>E</td>\n",
       "      <td>...</td>\n",
       "      <td>actress</td>\n",
       "      <td>NaN</td>\n",
       "      <td>[\"Hela\"]</td>\n",
       "      <td>Cate Blanchett</td>\n",
       "      <td>1969.0</td>\n",
       "      <td>NaN</td>\n",
       "      <td>actress,producer,writer</td>\n",
       "      <td>tt2402927,tt0127536,tt0167260,tt2334873</td>\n",
       "      <td>2017-11-03</td>\n",
       "      <td>954</td>\n",
       "    </tr>\n",
       "    <tr>\n",
       "      <th>1</th>\n",
       "      <td>23</td>\n",
       "      <td>2015-03-25-025189</td>\n",
       "      <td>how were you able to get that cat to do what y...</td>\n",
       "      <td>Cate Blanchett</td>\n",
       "      <td>['Q80966']</td>\n",
       "      <td>2015-03-25</td>\n",
       "      <td>1</td>\n",
       "      <td>[['Cate Blanchett', '0.6709'], ['None', '0.329...</td>\n",
       "      <td>['http://www.pedestrian.tv/news/arts-and-cultu...</td>\n",
       "      <td>E</td>\n",
       "      <td>...</td>\n",
       "      <td>actress</td>\n",
       "      <td>NaN</td>\n",
       "      <td>[\"Valka\"]</td>\n",
       "      <td>Cate Blanchett</td>\n",
       "      <td>1969.0</td>\n",
       "      <td>NaN</td>\n",
       "      <td>actress,producer,writer</td>\n",
       "      <td>tt2402927,tt0127536,tt0167260,tt2334873</td>\n",
       "      <td>2019-02-22</td>\n",
       "      <td>1430</td>\n",
       "    </tr>\n",
       "    <tr>\n",
       "      <th>2</th>\n",
       "      <td>23</td>\n",
       "      <td>2015-03-25-025189</td>\n",
       "      <td>how were you able to get that cat to do what y...</td>\n",
       "      <td>Cate Blanchett</td>\n",
       "      <td>['Q80966']</td>\n",
       "      <td>2015-03-25</td>\n",
       "      <td>1</td>\n",
       "      <td>[['Cate Blanchett', '0.6709'], ['None', '0.329...</td>\n",
       "      <td>['http://www.pedestrian.tv/news/arts-and-cultu...</td>\n",
       "      <td>E</td>\n",
       "      <td>...</td>\n",
       "      <td>actress</td>\n",
       "      <td>NaN</td>\n",
       "      <td>[\"Lou\"]</td>\n",
       "      <td>Cate Blanchett</td>\n",
       "      <td>1969.0</td>\n",
       "      <td>NaN</td>\n",
       "      <td>actress,producer,writer</td>\n",
       "      <td>tt2402927,tt0127536,tt0167260,tt2334873</td>\n",
       "      <td>2018-06-08</td>\n",
       "      <td>1171</td>\n",
       "    </tr>\n",
       "    <tr>\n",
       "      <th>3</th>\n",
       "      <td>23</td>\n",
       "      <td>2015-03-25-025189</td>\n",
       "      <td>how were you able to get that cat to do what y...</td>\n",
       "      <td>Cate Blanchett</td>\n",
       "      <td>['Q80966']</td>\n",
       "      <td>2015-03-25</td>\n",
       "      <td>1</td>\n",
       "      <td>[['Cate Blanchett', '0.6709'], ['None', '0.329...</td>\n",
       "      <td>['http://www.pedestrian.tv/news/arts-and-cultu...</td>\n",
       "      <td>E</td>\n",
       "      <td>...</td>\n",
       "      <td>actress</td>\n",
       "      <td>NaN</td>\n",
       "      <td>[\"Florence Zimmerman\"]</td>\n",
       "      <td>Cate Blanchett</td>\n",
       "      <td>1969.0</td>\n",
       "      <td>NaN</td>\n",
       "      <td>actress,producer,writer</td>\n",
       "      <td>tt2402927,tt0127536,tt0167260,tt2334873</td>\n",
       "      <td>2018-09-21</td>\n",
       "      <td>1276</td>\n",
       "    </tr>\n",
       "    <tr>\n",
       "      <th>4</th>\n",
       "      <td>23</td>\n",
       "      <td>2015-03-25-025189</td>\n",
       "      <td>how were you able to get that cat to do what y...</td>\n",
       "      <td>Cate Blanchett</td>\n",
       "      <td>['Q80966']</td>\n",
       "      <td>2015-03-25</td>\n",
       "      <td>1</td>\n",
       "      <td>[['Cate Blanchett', '0.6709'], ['None', '0.329...</td>\n",
       "      <td>['http://www.pedestrian.tv/news/arts-and-cultu...</td>\n",
       "      <td>E</td>\n",
       "      <td>...</td>\n",
       "      <td>actress</td>\n",
       "      <td>NaN</td>\n",
       "      <td>[\"Carol Aird\"]</td>\n",
       "      <td>Cate Blanchett</td>\n",
       "      <td>1969.0</td>\n",
       "      <td>NaN</td>\n",
       "      <td>actress,producer,writer</td>\n",
       "      <td>tt2402927,tt0127536,tt0167260,tt2334873</td>\n",
       "      <td>2015-11-20</td>\n",
       "      <td>240</td>\n",
       "    </tr>\n",
       "  </tbody>\n",
       "</table>\n",
       "<p>5 rows × 51 columns</p>\n",
       "</div>"
      ],
      "text/plain": [
       "   Unnamed: 0_x            quoteID  \\\n",
       "0            23  2015-03-25-025189   \n",
       "1            23  2015-03-25-025189   \n",
       "2            23  2015-03-25-025189   \n",
       "3            23  2015-03-25-025189   \n",
       "4            23  2015-03-25-025189   \n",
       "\n",
       "                                           quotation         speaker  \\\n",
       "0  how were you able to get that cat to do what y...  Cate Blanchett   \n",
       "1  how were you able to get that cat to do what y...  Cate Blanchett   \n",
       "2  how were you able to get that cat to do what y...  Cate Blanchett   \n",
       "3  how were you able to get that cat to do what y...  Cate Blanchett   \n",
       "4  how were you able to get that cat to do what y...  Cate Blanchett   \n",
       "\n",
       "         qids       date  numOccurrences  \\\n",
       "0  ['Q80966'] 2015-03-25               1   \n",
       "1  ['Q80966'] 2015-03-25               1   \n",
       "2  ['Q80966'] 2015-03-25               1   \n",
       "3  ['Q80966'] 2015-03-25               1   \n",
       "4  ['Q80966'] 2015-03-25               1   \n",
       "\n",
       "                                              probas  \\\n",
       "0  [['Cate Blanchett', '0.6709'], ['None', '0.329...   \n",
       "1  [['Cate Blanchett', '0.6709'], ['None', '0.329...   \n",
       "2  [['Cate Blanchett', '0.6709'], ['None', '0.329...   \n",
       "3  [['Cate Blanchett', '0.6709'], ['None', '0.329...   \n",
       "4  [['Cate Blanchett', '0.6709'], ['None', '0.329...   \n",
       "\n",
       "                                                urls phase  ...  category  \\\n",
       "0  ['http://www.pedestrian.tv/news/arts-and-cultu...     E  ...   actress   \n",
       "1  ['http://www.pedestrian.tv/news/arts-and-cultu...     E  ...   actress   \n",
       "2  ['http://www.pedestrian.tv/news/arts-and-cultu...     E  ...   actress   \n",
       "3  ['http://www.pedestrian.tv/news/arts-and-cultu...     E  ...   actress   \n",
       "4  ['http://www.pedestrian.tv/news/arts-and-cultu...     E  ...   actress   \n",
       "\n",
       "   job              characters     primaryName birthYear  deathYear  \\\n",
       "0  NaN                [\"Hela\"]  Cate Blanchett    1969.0        NaN   \n",
       "1  NaN               [\"Valka\"]  Cate Blanchett    1969.0        NaN   \n",
       "2  NaN                 [\"Lou\"]  Cate Blanchett    1969.0        NaN   \n",
       "3  NaN  [\"Florence Zimmerman\"]  Cate Blanchett    1969.0        NaN   \n",
       "4  NaN          [\"Carol Aird\"]  Cate Blanchett    1969.0        NaN   \n",
       "\n",
       "         primaryProfession                           knownForTitles  \\\n",
       "0  actress,producer,writer  tt2402927,tt0127536,tt0167260,tt2334873   \n",
       "1  actress,producer,writer  tt2402927,tt0127536,tt0167260,tt2334873   \n",
       "2  actress,producer,writer  tt2402927,tt0127536,tt0167260,tt2334873   \n",
       "3  actress,producer,writer  tt2402927,tt0127536,tt0167260,tt2334873   \n",
       "4  actress,producer,writer  tt2402927,tt0127536,tt0167260,tt2334873   \n",
       "\n",
       "   Release_date_f date_diff  \n",
       "0      2017-11-03       954  \n",
       "1      2019-02-22      1430  \n",
       "2      2018-06-08      1171  \n",
       "3      2018-09-21      1276  \n",
       "4      2015-11-20       240  \n",
       "\n",
       "[5 rows x 51 columns]"
      ]
     },
     "execution_count": 61,
     "metadata": {},
     "output_type": "execute_result"
    }
   ],
   "source": [
    "df[\"Release_date_f\"] = df[\"Release Date\"]+\", \"+df[\"startYear\"].astype(int).astype(str)\n",
    "df[\"Release_date_f\"] = pd.to_datetime(df[\"Release_date_f\"])\n",
    "df[\"date\"] = df[\"date\"].values.astype('datetime64[D]')\n",
    "df[\"date_diff\"] = (df[\"Release_date_f\"] - df[\"date\"]).dt.days\n",
    "df = df[(df[\"startYear\"]>= start_year )&(df[\"startYear\"]<=end_year)]\n",
    "df.head()"
   ]
  },
  {
   "cell_type": "markdown",
   "metadata": {},
   "source": [
    "## 5. Aggregation: count per movie per date_diff"
   ]
  },
  {
   "cell_type": "code",
   "execution_count": 62,
   "metadata": {},
   "outputs": [
    {
     "data": {
      "text/html": [
       "<div>\n",
       "<style scoped>\n",
       "    .dataframe tbody tr th:only-of-type {\n",
       "        vertical-align: middle;\n",
       "    }\n",
       "\n",
       "    .dataframe tbody tr th {\n",
       "        vertical-align: top;\n",
       "    }\n",
       "\n",
       "    .dataframe thead th {\n",
       "        text-align: right;\n",
       "    }\n",
       "</style>\n",
       "<table border=\"1\" class=\"dataframe\">\n",
       "  <thead>\n",
       "    <tr style=\"text-align: right;\">\n",
       "      <th></th>\n",
       "      <th>primaryTitle</th>\n",
       "      <th>date_diff</th>\n",
       "      <th>numOccurrences</th>\n",
       "    </tr>\n",
       "  </thead>\n",
       "  <tbody>\n",
       "    <tr>\n",
       "      <th>0</th>\n",
       "      <td>10 Cloverfield Lane</td>\n",
       "      <td>-1497</td>\n",
       "      <td>1</td>\n",
       "    </tr>\n",
       "    <tr>\n",
       "      <th>1</th>\n",
       "      <td>10 Cloverfield Lane</td>\n",
       "      <td>-1490</td>\n",
       "      <td>3</td>\n",
       "    </tr>\n",
       "    <tr>\n",
       "      <th>2</th>\n",
       "      <td>10 Cloverfield Lane</td>\n",
       "      <td>-1488</td>\n",
       "      <td>1</td>\n",
       "    </tr>\n",
       "    <tr>\n",
       "      <th>3</th>\n",
       "      <td>10 Cloverfield Lane</td>\n",
       "      <td>-1483</td>\n",
       "      <td>3</td>\n",
       "    </tr>\n",
       "    <tr>\n",
       "      <th>4</th>\n",
       "      <td>10 Cloverfield Lane</td>\n",
       "      <td>-1482</td>\n",
       "      <td>1</td>\n",
       "    </tr>\n",
       "  </tbody>\n",
       "</table>\n",
       "</div>"
      ],
      "text/plain": [
       "          primaryTitle  date_diff  numOccurrences\n",
       "0  10 Cloverfield Lane      -1497               1\n",
       "1  10 Cloverfield Lane      -1490               3\n",
       "2  10 Cloverfield Lane      -1488               1\n",
       "3  10 Cloverfield Lane      -1483               3\n",
       "4  10 Cloverfield Lane      -1482               1"
      ]
     },
     "execution_count": 62,
     "metadata": {},
     "output_type": "execute_result"
    }
   ],
   "source": [
    "df_agg = df.groupby([\"primaryTitle\",\"date_diff\"],as_index=False).agg({'primaryTitle': 'first', 'date_diff': 'first','numOccurrences': 'count'})\n",
    "df_agg.head()"
   ]
  },
  {
   "cell_type": "markdown",
   "metadata": {},
   "source": [
    "## 6. Press activity around release date"
   ]
  },
  {
   "cell_type": "code",
   "execution_count": 63,
   "metadata": {},
   "outputs": [
    {
     "data": {
      "image/png": "[encoded data removed]",
      "text/plain": [
       "<Figure size 1008x288 with 2 Axes>"
      ]
     },
     "metadata": {
      "needs_background": "light"
     },
     "output_type": "display_data"
    }
   ],
   "source": [
    "plt.figure(figsize=(14,4))\n",
    "plt.subplot(1,2,1)\n",
    "df_agg_tot = df_agg.groupby(\"date_diff\").sum()[[\"numOccurrences\"]]\n",
    "df_agg_tot = df_agg_tot.reset_index()\n",
    "sb.lineplot(x=\"date_diff\",y=\"numOccurrences\",data=df_agg_tot)\n",
    "plt.xlabel(\"days after release\")\n",
    "plt.ylabel(\"related quotes\")\n",
    "plt.title(\"Zoom out\")\n",
    "plt.grid()\n",
    "plt.xlim(-500,500)\n",
    "\n",
    "plt.subplot(1,2,2)\n",
    "sb.lineplot(x=\"date_diff\",y=\"numOccurrences\",data=df_agg_tot)\n",
    "plt.xlabel(\"days after release\")\n",
    "plt.ylabel(\"related quotes\")\n",
    "plt.grid()\n",
    "plt.xlim(-60,60)\n",
    "plt.title(\"Zoom in\")\n",
    "plt.suptitle(f\"Quotes whose speaker where in the top US movies main crew ({start_year}:{end_year})\")\n",
    "plt.savefig(\"\")"
   ]
  },
  {
   "cell_type": "code",
   "execution_count": null,
   "metadata": {},
   "outputs": [],
   "source": []
  }
 ],
 "metadata": {
  "interpreter": {
   "hash": "535feb9148a04feb856e0fc880ebc8e4dd5554d5a3f65f80ac0547368bdbd739"
  },
  "kernelspec": {
   "display_name": "Python 3.8.11 64-bit ('ada': conda)",
   "name": "python3"
  },
  "language_info": {
   "codemirror_mode": {
    "name": "ipython",
    "version": 3
   },
   "file_extension": ".py",
   "mimetype": "text/x-python",
   "name": "python",
   "nbconvert_exporter": "python",
   "pygments_lexer": "ipython3",
   "version": "3.8.11"
  },
  "orig_nbformat": 4
 },
 "nbformat": 4,
 "nbformat_minor": 2
}
