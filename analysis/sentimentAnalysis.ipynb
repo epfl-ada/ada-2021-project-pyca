{
 "cells": [
  {
   "cell_type": "code",
   "execution_count": 2,
   "id": "fb4b407a",
   "metadata": {},
   "outputs": [],
   "source": [
    "from tqdm.notebook import tqdm\n",
    "import pandas as pd\n",
    "import numpy as np\n",
    "import glob\n",
    "import os\n",
    "import re\n",
    "import seaborn as sns\n",
    "import spacy\n",
    "import string\n",
    "from spacy.lang.en.stop_words import STOP_WORDS\n",
    "from spacy.lang.en import English\n",
    "import en_core_web_sm\n",
    "import re\n",
    "import datetime\n",
    "from afinn import Afinn\n",
    "import matplotlib.pyplot as plt\n",
    "tqdm.pandas()\n",
    "import scipy as sc\n",
    "\n",
    "nlp = spacy.load(\"en_core_web_sm\")"
   ]
  },
  {
   "cell_type": "markdown",
   "id": "988b72d1",
   "metadata": {},
   "source": [
    "This notebook consists of two parts:\n",
    "- analysis of the quotes related to the top movies\n",
    "- some visualisations"
   ]
  },
  {
   "cell_type": "markdown",
   "id": "729e7e8c",
   "metadata": {},
   "source": [
    "## Text Analysis"
   ]
  },
  {
   "cell_type": "code",
   "execution_count": 162,
   "id": "b3476b2a",
   "metadata": {},
   "outputs": [],
   "source": [
    "# load the quotes that we relate to the top 50 movies\n",
    "quotes = pd.read_csv(\"../data/50moviesquotes.csv.gz\")"
   ]
  },
  {
   "cell_type": "markdown",
   "id": "aedc7dbc",
   "metadata": {},
   "source": [
    "The first cleaning stage will consit in removing from the quotes the title of the movies (otherwise the study will have a high bias)"
   ]
  },
  {
   "cell_type": "code",
   "execution_count": 144,
   "id": "48f74f79",
   "metadata": {},
   "outputs": [],
   "source": [
    "alttitles = dict([\n",
    "    ('Star Wars: Episode VII - The Force Awakens', ['Star Wars', 'The force awakens']),\n",
    "    ('Avengers: Endgame', ['Avengers', 'Endgame']),\n",
    "    ('Black Panther', ['Black Panther']),\n",
    "    ('Avengers: Infinity War', ['Infinity War', 'Avengers']),\n",
    "    ('Jurassic World', ['Jurassic']), # Probably a bad idea but let's see\n",
    "    ('Star Wars: Episode VIII - The Last Jedi', ['Star Wars', 'Last Jedi']),\n",
    "    ('Incredibles 2', ['Incredibles']), # Possibly too broad\n",
    "    ('The Lion King', ['Lion King']),\n",
    "    ('Rogue One: A Star Wars Story', ['Rogue One', 'Star Wars']),\n",
    "    ('Star Wars: Episode IX - The Rise of Skywalker', ['Star Wars', 'Skywalker']),\n",
    "    ('Beauty and the Beast', ['Beauty and the Beast']),\n",
    "    ('Finding Dory', ['Finding Dory']),\n",
    "    ('Frozen II', ['Frozen']), # Probably a bad idea but let's see\n",
    "    ('Avengers: Age of Ultron', ['Avengers', 'Ultron']),\n",
    "    ('Toy Story 4', ['Toy Story']),\n",
    "    ('Captain Marvel', ['Marvel']),\n",
    "    ('Jurassic World: Fallen Kingdom', ['Jurassic', 'Fallen Kingdom']),\n",
    "    ('Captain America: Civil War', ['Captain America', 'Civil War']),\n",
    "    ('Jumanji: Welcome to the Jungle', ['Jumanji', 'Welcome to the Jungle']),\n",
    "    #('Spider-Man: Far from Home', ['Spider-Man', 'Spider Man', 'Far from Home']),\n",
    "    ('Guardians of the Galaxy Vol. 2', ['Guardians of the Galaxy']),\n",
    "    ('The Secret Life of Pets', ['Secret Life of Pets']),\n",
    "    ('The Jungle Book', ['Jungle Book']),\n",
    "    ('Deadpool', ['Deadpool']),\n",
    "    ('Inside Out', ['Inside Out']),\n",
    "    ('Aladdin', ['Aladdin']),\n",
    "    ('Furious 7', ['Furious']), # Probably a bad idea but let's see\n",
    "    ('American Sniper', ['American Sniper']),\n",
    "    ('Zootopia', ['Zootopia']),\n",
    "    ('The Hunger Games: Mockingjay - Part 1', ['Hunger Games', 'Mockingjay']),\n",
    "    ('Minions', ['Minions']), # Possibly too broad\n",
    "    ('Joker', ['Joker']),\n",
    "    ('Aquaman', ['Aquaman']),\n",
    "    ('Spider-Man: Homecoming', ['Spider-Man', 'Spider Man', 'Homecoming']),\n",
    "    ('Batman v Superman: Dawn of Justice', ['Batman', 'Superman', 'Dawn of Justice']),\n",
    "    #('It', []), # just not possible\n",
    "    ('Suicide Squad', ['Suicide Squad']),\n",
    "    ('Jumanji: The Next Level', ['Jumanji', 'The Next Level']),\n",
    "    ('Deadpool 2', ['Deadpool']),\n",
    "    ('Thor: Ragnarok', ['Thor', 'Ragnarok']),\n",
    "    ('The Hunger Games: Mockingjay - Part 2', ['Hunger Games', 'Mockingjay']),\n",
    "    ('The Grinch', ['Grinch']),\n",
    "    ('Sing', ['Sing']), # Probably a bad idea but let's see\n",
    "    ('Despicable Me 3', ['Despicable Me']),\n",
    "    ('The Hobbit: The Battle of the Five Armies', ['Hobbit', 'Battle of the Five Armies']),\n",
    "    ('Moana', ['Moana']),\n",
    "    ('Fantastic Beasts and Where to Find Them', ['Fantastic Beasts']),\n",
    "    ('Doctor Strange', ['Doctor Strange']),\n",
    "    ('Justice League', ['Justice League'])\n",
    "])"
   ]
  },
  {
   "cell_type": "code",
   "execution_count": 145,
   "id": "3d9e1d34",
   "metadata": {},
   "outputs": [],
   "source": [
    "# remove title and search keys from quotations\n",
    "for movie in alttitles:\n",
    "    for strt in alttitles[movie]:\n",
    "        val = quotes.loc[quotes[\"primaryTitle\"]==movie][\"quotation\"].str.replace(strt, '',case=False)\n",
    "        quotes.loc[quotes[\"primaryTitle\"]==movie,\"quotation\"] = val"
   ]
  },
  {
   "cell_type": "markdown",
   "id": "c377fb51",
   "metadata": {},
   "source": [
    "Cleaning the movie data set"
   ]
  },
  {
   "cell_type": "code",
   "execution_count": 146,
   "id": "4d30b69c",
   "metadata": {},
   "outputs": [],
   "source": [
    "# boxoffice see movieBoxOffice.ipynb to generate the dataset\n",
    "boxoffice = pd.read_csv(\"../data/boxoffice.csv\")\n",
    "boxoffice[\"boxoffice\"] = boxoffice[\"Gross\"].apply(lambda x:int(x.replace(\"$\",\"\").replace(\",\",\"\")))\n",
    "boxoffice[\"% of Total\"] = pd.to_numeric(boxoffice[\"% of Total\"].str.replace(\"%\",\"\"),errors=\"coerce\")"
   ]
  },
  {
   "cell_type": "markdown",
   "id": "9b9ed947",
   "metadata": {},
   "source": [
    "Merging quotes and boxoffice data"
   ]
  },
  {
   "cell_type": "code",
   "execution_count": 147,
   "id": "9ed870bd",
   "metadata": {},
   "outputs": [],
   "source": [
    "# merge quotes and boxoffice\n",
    "quotes = pd.merge(left=quotes,right=boxoffice,how=\"left\",left_on=\"primaryTitle\",right_on=\"Release\")\n",
    "# add a field to count days between quote and release date\n",
    "quotes[\"diff_date\"] = (pd.to_datetime(quotes[\"date\"]) - pd.to_datetime(quotes[\"Release Date\"])).dt.days\n",
    "# only keep around a window\n",
    "DELTA_T = 10\n",
    "quotes = quotes[(quotes[\"diff_date\"]<DELTA_T)&(quotes[\"diff_date\"]>-DELTA_T)]"
   ]
  },
  {
   "cell_type": "markdown",
   "id": "51cbcf57",
   "metadata": {},
   "source": [
    "## Sentiment polarity"
   ]
  },
  {
   "cell_type": "code",
   "execution_count": 149,
   "id": "b88ad83b",
   "metadata": {},
   "outputs": [],
   "source": [
    "afn = Afinn()\n",
    "\n",
    "nlp = en_core_web_sm.load()\n",
    "\n",
    "punctuations = string.punctuation\n",
    "#stopwords = list(STOP_WORDS)\n",
    "\n",
    "parser = nlp\n",
    "def spacy_tokenizer(sentence):\n",
    "    tokens = parser(sentence)\n",
    "    tokens = [ word.lemma_.lower().strip() if word.lemma_ != \"-PRON-\" else word.lower_ for word in tokens ]\n",
    "    tokens = [ word for word in tokens if word not in punctuations ]\n",
    "    tokens = \" \".join([i for i in tokens])\n",
    "    return tokens\n",
    "\n",
    "def count_words(s):\n",
    "    return len(s.split())\n",
    "\n",
    "def sentiment(s):\n",
    "    return afn.score(s)"
   ]
  },
  {
   "cell_type": "code",
   "execution_count": 150,
   "id": "7b05422a",
   "metadata": {},
   "outputs": [],
   "source": [
    "# long to run ! (15min?)\n",
    "quotes[\"text_clean\"] = quotes[\"quotation\"].apply(spacy_tokenizer)\n",
    "quotes[\"text\"] = quotes[\"text_clean\"].astype('str')"
   ]
  },
  {
   "cell_type": "code",
   "execution_count": 151,
   "id": "9efd584a",
   "metadata": {},
   "outputs": [],
   "source": [
    "quotes[\"sentiment\"] = quotes[\"text\"].apply(sentiment)\n",
    "quotes[\"word_counts\"] = quotes[\"text\"].apply(count_words)"
   ]
  },
  {
   "cell_type": "code",
   "execution_count": 200,
   "id": "e5b1f68d",
   "metadata": {},
   "outputs": [],
   "source": [
    "quotes.to_csv(\"../data/50movies_sentiment_polarity.csv.gz\",compression=\"gzip\")"
   ]
  },
  {
   "cell_type": "markdown",
   "id": "261a6f97",
   "metadata": {},
   "source": [
    "### Emotion Analysis"
   ]
  },
  {
   "cell_type": "code",
   "execution_count": 152,
   "id": "f4fe5a22",
   "metadata": {},
   "outputs": [
    {
     "data": {
      "text/html": [
       "<div>\n",
       "<style scoped>\n",
       "    .dataframe tbody tr th:only-of-type {\n",
       "        vertical-align: middle;\n",
       "    }\n",
       "\n",
       "    .dataframe tbody tr th {\n",
       "        vertical-align: top;\n",
       "    }\n",
       "\n",
       "    .dataframe thead th {\n",
       "        text-align: right;\n",
       "    }\n",
       "</style>\n",
       "<table border=\"1\" class=\"dataframe\">\n",
       "  <thead>\n",
       "    <tr style=\"text-align: right;\">\n",
       "      <th></th>\n",
       "      <th>primaryTitle</th>\n",
       "      <th>% of Total</th>\n",
       "      <th>sentiment</th>\n",
       "      <th>score</th>\n",
       "    </tr>\n",
       "  </thead>\n",
       "  <tbody>\n",
       "    <tr>\n",
       "      <th>0</th>\n",
       "      <td>Star Wars: Episode VII - The Force Awakens</td>\n",
       "      <td>26.5</td>\n",
       "      <td>warmth</td>\n",
       "      <td>0.0</td>\n",
       "    </tr>\n",
       "    <tr>\n",
       "      <th>1</th>\n",
       "      <td>Star Wars: Episode VII - The Force Awakens</td>\n",
       "      <td>26.5</td>\n",
       "      <td>fun</td>\n",
       "      <td>0.0</td>\n",
       "    </tr>\n",
       "    <tr>\n",
       "      <th>2</th>\n",
       "      <td>Star Wars: Episode VII - The Force Awakens</td>\n",
       "      <td>26.5</td>\n",
       "      <td>emotional</td>\n",
       "      <td>0.0</td>\n",
       "    </tr>\n",
       "    <tr>\n",
       "      <th>3</th>\n",
       "      <td>Star Wars: Episode VII - The Force Awakens</td>\n",
       "      <td>26.5</td>\n",
       "      <td>disappointment</td>\n",
       "      <td>0.0</td>\n",
       "    </tr>\n",
       "    <tr>\n",
       "      <th>4</th>\n",
       "      <td>Star Wars: Episode VII - The Force Awakens</td>\n",
       "      <td>26.5</td>\n",
       "      <td>love</td>\n",
       "      <td>0.0</td>\n",
       "    </tr>\n",
       "    <tr>\n",
       "      <th>5</th>\n",
       "      <td>Star Wars: Episode VII - The Force Awakens</td>\n",
       "      <td>26.5</td>\n",
       "      <td>hate</td>\n",
       "      <td>0.0</td>\n",
       "    </tr>\n",
       "    <tr>\n",
       "      <th>6</th>\n",
       "      <td>Star Wars: Episode VII - The Force Awakens</td>\n",
       "      <td>26.5</td>\n",
       "      <td>warmth</td>\n",
       "      <td>0.0</td>\n",
       "    </tr>\n",
       "    <tr>\n",
       "      <th>7</th>\n",
       "      <td>Star Wars: Episode VII - The Force Awakens</td>\n",
       "      <td>26.5</td>\n",
       "      <td>fun</td>\n",
       "      <td>0.0</td>\n",
       "    </tr>\n",
       "    <tr>\n",
       "      <th>8</th>\n",
       "      <td>Star Wars: Episode VII - The Force Awakens</td>\n",
       "      <td>26.5</td>\n",
       "      <td>emotional</td>\n",
       "      <td>0.0</td>\n",
       "    </tr>\n",
       "    <tr>\n",
       "      <th>9</th>\n",
       "      <td>Star Wars: Episode VII - The Force Awakens</td>\n",
       "      <td>26.5</td>\n",
       "      <td>disappointment</td>\n",
       "      <td>0.0</td>\n",
       "    </tr>\n",
       "  </tbody>\n",
       "</table>\n",
       "</div>"
      ],
      "text/plain": [
       "                                 primaryTitle  % of Total       sentiment  \\\n",
       "0  Star Wars: Episode VII - The Force Awakens        26.5          warmth   \n",
       "1  Star Wars: Episode VII - The Force Awakens        26.5             fun   \n",
       "2  Star Wars: Episode VII - The Force Awakens        26.5       emotional   \n",
       "3  Star Wars: Episode VII - The Force Awakens        26.5  disappointment   \n",
       "4  Star Wars: Episode VII - The Force Awakens        26.5            love   \n",
       "5  Star Wars: Episode VII - The Force Awakens        26.5            hate   \n",
       "6  Star Wars: Episode VII - The Force Awakens        26.5          warmth   \n",
       "7  Star Wars: Episode VII - The Force Awakens        26.5             fun   \n",
       "8  Star Wars: Episode VII - The Force Awakens        26.5       emotional   \n",
       "9  Star Wars: Episode VII - The Force Awakens        26.5  disappointment   \n",
       "\n",
       "   score  \n",
       "0    0.0  \n",
       "1    0.0  \n",
       "2    0.0  \n",
       "3    0.0  \n",
       "4    0.0  \n",
       "5    0.0  \n",
       "6    0.0  \n",
       "7    0.0  \n",
       "8    0.0  \n",
       "9    0.0  "
      ]
     },
     "execution_count": 152,
     "metadata": {},
     "output_type": "execute_result"
    }
   ],
   "source": [
    "# long to run ! (25min?)\n",
    "\n",
    "from empath import Empath\n",
    "lexicon = Empath()\n",
    "categories = [\"warmth\", \"fun\",\"love\",\"emotional\", \"disappointment\",\"hate\"]\n",
    "results=[]\n",
    "analysis = pd.DataFrame(columns=[\"primaryTitle\",\"% of Total\",\"sentiment\",\"score\"])\n",
    "for index, row in quotes.iterrows():\n",
    "    experience = lexicon.analyze(row[\"text\"],categories = categories)\n",
    "    for cat in experience:\n",
    "        analysis = analysis.append({\"primaryTitle\":row[\"primaryTitle\"],\"% of Total\":row[\"% of Total\"],\"sentiment\":cat,\"score\":experience[cat]},ignore_index=True)\n",
    "analysis.head(10)\n"
   ]
  },
  {
   "cell_type": "code",
   "execution_count": 157,
   "id": "60a90340",
   "metadata": {},
   "outputs": [],
   "source": [
    "analysis.to_csv(\"../data/50movies_sentiment_emotion.csv.gz\",compression=\"gzip\")"
   ]
  },
  {
   "cell_type": "markdown",
   "id": "ad046609",
   "metadata": {},
   "source": [
    "### PLOTS"
   ]
  },
  {
   "cell_type": "markdown",
   "id": "8ca7c535",
   "metadata": {},
   "source": [
    "Reload the data since previous stages are time consuming (40min)"
   ]
  },
  {
   "cell_type": "code",
   "execution_count": 143,
   "id": "3d76cfe0",
   "metadata": {},
   "outputs": [],
   "source": [
    "# boxoffice see movieBoxOffice.ipynb to generate the dataset\n",
    "boxoffice = pd.read_csv(\"../data/boxoffice.csv\")\n",
    "boxoffice[\"boxoffice\"] = boxoffice[\"Gross\"].apply(lambda x:int(x.replace(\"$\",\"\").replace(\",\",\"\")))\n",
    "boxoffice[\"% of Total\"] = pd.to_numeric(boxoffice[\"% of Total\"].str.replace(\"%\",\"\"),errors=\"coerce\")\n",
    "\n",
    "analysis = pd.read_csv(\"../data/50movies_sentiment_emotion.csv.gz\")\n",
    "polarity = pd.read_csv(\"../data/50movies_sentiment_polarity.csv.gz\")\n",
    "\n",
    "# remove irrelevant case\n",
    "analysis = analysis[analysis[\"primaryTitle\"]!=\"Sing\"]\n",
    "polarity = polarity[polarity[\"primaryTitle\"]!=\"Sing\"]\n"
   ]
  },
  {
   "cell_type": "markdown",
   "id": "8c725819",
   "metadata": {},
   "source": [
    "### Emotion analysis"
   ]
  },
  {
   "cell_type": "markdown",
   "id": "d47517ed",
   "metadata": {},
   "source": [
    "1. Split the movies into 3 categories"
   ]
  },
  {
   "cell_type": "code",
   "execution_count": 144,
   "id": "48aa6296",
   "metadata": {},
   "outputs": [],
   "source": [
    "# split movies into 3 categories\n",
    "name1 = \"high % first WE\"\n",
    "name2 = \"intermediate score\"\n",
    "name3 = \"high % after first WE\"\n",
    "boxoffice[\"category\"] = (boxoffice[\"% of Total\"]<(boxoffice[\"% of Total\"].quantile(q=1/3)))*1+(boxoffice[\"% of Total\"]<(boxoffice[\"% of Total\"].quantile(q=2/3)))*1\n",
    "\n",
    "boxoffice.loc[boxoffice[\"category\"]==0,\"category\"] = name1\n",
    "boxoffice.loc[boxoffice[\"category\"]==1,\"category\"] = name2\n",
    "boxoffice.loc[boxoffice[\"category\"]==2,\"category\"] = name3\n",
    "\n",
    "# aggregate by movie and sentiment type\n",
    "analysis2 = analysis.groupby([\"primaryTitle\",\"sentiment\"]).agg(score=(\"score\",\"mean\"),count=(\"primaryTitle\",\"count\")).reset_index()\n",
    "analysis2 = analysis2[analysis2[\"count\"]>20]\n",
    "\n",
    "# incorporate movie data\n",
    "analysis3 = pd.merge(left=analysis2,right=boxoffice[[\"Release\",\"category\"]],how=\"left\",left_on=\"primaryTitle\",right_on=\"Release\")"
   ]
  },
  {
   "cell_type": "markdown",
   "id": "b23c14a9",
   "metadata": {},
   "source": [
    "2. Plot average score of various sentiment types"
   ]
  },
  {
   "cell_type": "code",
   "execution_count": 165,
   "id": "30bc2d5e",
   "metadata": {},
   "outputs": [
    {
     "name": "stdout",
     "output_type": "stream",
     "text": [
      "p-value for the t-test for warmth: 0.592131173903326\n",
      "p-value for the t-test for fun: 0.6638467443455023\n",
      "p-value for the t-test for love: 0.10946665795321267\n",
      "p-value for the t-test for emotional: 0.07206539961741787\n",
      "p-value for the t-test for disappointment: 0.8743080913466437\n",
      "p-value for the t-test for hate: 0.03356945471767731\n"
     ]
    },
    {
     "data": {
      "image/png": "[encoded data removed]",
      "text/plain": [
       "<Figure size 571.975x432 with 1 Axes>"
      ]
     },
     "metadata": {},
     "output_type": "display_data"
    }
   ],
   "source": [
    "# plot\n",
    "sns.set_theme(style=\"whitegrid\")\n",
    "\n",
    "analysis3.sort_values(\"category\")\n",
    "g = sns.catplot(\n",
    "    data=analysis3, kind=\"bar\",x=\"sentiment\",y=\"score\",hue=\"category\",\n",
    "    palette=\"dark\", alpha=.6, height=6,hue_order=[name1,name2,name3],order=categories\n",
    ")\n",
    "g.despine(left=True)\n",
    "g.set_axis_labels(\"\", \"average for word term\")\n",
    "g.legend.set_title(\"\")\n",
    "plt.savefig(\"./figures/sentiementAnalysis.pdf\")\n",
    "plt.savefig(\"./figures/sentiementAnalysis.png\")\n",
    "\n",
    "# t-test\n",
    "for cat in categories:\n",
    "    a1 = analysis3[(analysis3[\"sentiment\"]==cat)&(analysis3[\"category\"]==name1)][\"score\"]\n",
    "    a2 = analysis3[(analysis3[\"sentiment\"]==cat)&(analysis3[\"category\"]==name3)][\"score\"]\n",
    "    res = sc.stats.ttest_ind(a1,a2)\n",
    "    print(f\"p-value for the t-test for {cat}: {res[1]}\")"
   ]
  },
  {
   "cell_type": "markdown",
   "id": "e57d2ab5",
   "metadata": {},
   "source": [
    "### Polarity"
   ]
  },
  {
   "cell_type": "markdown",
   "id": "76ccedb2",
   "metadata": {},
   "source": [
    "1. Relation to the total gross"
   ]
  },
  {
   "cell_type": "code",
   "execution_count": 164,
   "id": "694961d0",
   "metadata": {},
   "outputs": [
    {
     "name": "stderr",
     "output_type": "stream",
     "text": [
      "*c* argument looks like a single numeric RGB or RGBA sequence, which should be avoided as value-mapping will have precedence in case its length matches with *x* & *y*.  Please use the *color* keyword-argument or provide a 2D array with a single row if you intend to specify the same RGB or RGBA value for all points.\n",
      "*c* argument looks like a single numeric RGB or RGBA sequence, which should be avoided as value-mapping will have precedence in case its length matches with *x* & *y*.  Please use the *color* keyword-argument or provide a 2D array with a single row if you intend to specify the same RGB or RGBA value for all points.\n",
      "*c* argument looks like a single numeric RGB or RGBA sequence, which should be avoided as value-mapping will have precedence in case its length matches with *x* & *y*.  Please use the *color* keyword-argument or provide a 2D array with a single row if you intend to specify the same RGB or RGBA value for all points.\n"
     ]
    },
    {
     "data": {
      "image/png": "[encoded data removed]",
      "text/plain": [
       "<Figure size 576x432 with 1 Axes>"
      ]
     },
     "metadata": {},
     "output_type": "display_data"
    }
   ],
   "source": [
    "plt.figure(figsize=(8,6))\n",
    "quotes_gr2 = polarity.groupby(\"primaryTitle\").agg(boxoffice=(\"boxoffice\",\"first\"),sentiment=(\"sentiment\",\"mean\"),count=(\"boxoffice\",\"count\")).reset_index()\n",
    "quotes_gr2 = quotes_gr2[quotes_gr2[\"count\"]>20]\n",
    "cmap = np.array([(3,0,0),(2,0,0),(1,0,0)])/4\n",
    "s1 = 100\n",
    "s2 = 300\n",
    "quotes_gr2[\"cat\"] = (quotes_gr2[\"count\"]<s1)*0+(quotes_gr2[\"count\"]>=s1)*1 + (quotes_gr2[\"count\"]>s2)*1\n",
    "labels = [f\" <{s1}\",f\"[{s1},{s2}]\",f\">{s2}\"]\n",
    "quotes_gr2.sort_values(\"cat\")\n",
    "\n",
    "for i in range(3):\n",
    "    sns.scatterplot(data=quotes_gr2[quotes_gr2[\"cat\"]==i],x=\"sentiment\",y=\"boxoffice\",s=(i)*60+100,alpha=1,label=labels[i],c=cmap[i])\n",
    "\n",
    "plt.xlabel(\"Average sentiment score for quotes related to the movie near the release date\")\n",
    "plt.ylabel(\"Total Gross ($)\")\n",
    "a1 = sc.stats.spearmanr(quotes_gr2[\"sentiment\"],quotes_gr2[\"boxoffice\"])\n",
    "b1 = sc.stats.pearsonr(quotes_gr2[\"sentiment\"],quotes_gr2[\"boxoffice\"])\n",
    "plt.title(f\"Spearman Correlation {a1[0]:.2}, p-value {a1[1]:.3}\\n Pearson Correlation {b1[0]:.2}, p-value {b1[1]:.3}\")\n",
    "plt.savefig(\"./figures/polarityAnalysis_totalGross.pdf\")\n",
    "plt.savefig(\"./figures/polarityAnalysis_totalGross.png\")\n",
    "plt.legend(title='# quotes related to the movie')\n",
    "plt.grid(which='major', color='gray',alpha=0.4, linestyle='-')\n"
   ]
  },
  {
   "cell_type": "markdown",
   "id": "cc67adfe",
   "metadata": {},
   "source": [
    "2. Relation to perccentage of gross achieved on the first WE"
   ]
  },
  {
   "cell_type": "code",
   "execution_count": 163,
   "id": "77391920",
   "metadata": {},
   "outputs": [
    {
     "name": "stderr",
     "output_type": "stream",
     "text": [
      "*c* argument looks like a single numeric RGB or RGBA sequence, which should be avoided as value-mapping will have precedence in case its length matches with *x* & *y*.  Please use the *color* keyword-argument or provide a 2D array with a single row if you intend to specify the same RGB or RGBA value for all points.\n",
      "*c* argument looks like a single numeric RGB or RGBA sequence, which should be avoided as value-mapping will have precedence in case its length matches with *x* & *y*.  Please use the *color* keyword-argument or provide a 2D array with a single row if you intend to specify the same RGB or RGBA value for all points.\n",
      "*c* argument looks like a single numeric RGB or RGBA sequence, which should be avoided as value-mapping will have precedence in case its length matches with *x* & *y*.  Please use the *color* keyword-argument or provide a 2D array with a single row if you intend to specify the same RGB or RGBA value for all points.\n"
     ]
    },
    {
     "data": {
      "text/plain": [
       "(0.0, 5.0)"
      ]
     },
     "execution_count": 163,
     "metadata": {},
     "output_type": "execute_result"
    },
    {
     "data": {
      "image/png": "[encoded data removed]",
      "text/plain": [
       "<Figure size 576x432 with 1 Axes>"
      ]
     },
     "metadata": {},
     "output_type": "display_data"
    }
   ],
   "source": [
    "quotes_gr1 = polarity[(polarity[\"primaryTitle\"]!=\"Sing\")].groupby(\"primaryTitle\").agg(percent=(\"% of Total\",\"first\"),sentiment=(\"sentiment\",\"mean\"),count=(\"sentiment\",\"count\"),boxoffice=(\"boxoffice\",\"first\")).reset_index()\n",
    "quotes_gr1 = quotes_gr1[quotes_gr1[\"count\"]>20]\n",
    "cmap = np.array([(3,0,0),(2,0,0),(1,0,0)])/4\n",
    "s1 = 100\n",
    "s2 = 300\n",
    "quotes_gr1[\"cat\"] = (quotes_gr1[\"count\"]<s1)*0+(quotes_gr1[\"count\"]>=s1)*1 + (quotes_gr1[\"count\"]>s2)*1\n",
    "labels = [f\" <{s1}\",f\"[{s1},{s2}]\",f\">{s2}\"]\n",
    "quotes_gr1.sort_values(\"cat\")\n",
    "\n",
    "plt.figure(figsize=(8,6))\n",
    "for i in range(3):\n",
    "    sns.scatterplot(data=quotes_gr1[quotes_gr1[\"cat\"]==i],x=\"sentiment\",y=\"percent\",s=(i)*60+100,alpha=1,label=labels[i],c=cmap[i])\n",
    "\n",
    "plt.xlabel(\"Average sentiment score for quotes related to the movie near the release date\")\n",
    "plt.ylabel(\"% of Total Gross First WE after release\")\n",
    "a1 = sc.stats.spearmanr(quotes_gr1[\"sentiment\"],quotes_gr1[\"percent\"])\n",
    "b1 = sc.stats.pearsonr(quotes_gr1[\"sentiment\"],quotes_gr1[\"percent\"])\n",
    "plt.title(f\"Spearman Correlation {a1[0]:.2}, p-value {a1[1]:.3}\\n Pearson Correlation {b1[0]:.2}, p-value {b1[1]:.3}\")\n",
    "plt.savefig(\"./figures/polarityAnalysis_percentGross.pdf\")\n",
    "plt.savefig(\"./figures/polarityAnalysis_percentGross.png\")\n",
    "plt.legend(title='# quotes related to the movie')\n",
    "plt.grid(which='major', color='gray',alpha=0.4, linestyle='-')\n",
    "plt.ylim(0,60)\n",
    "plt.xlim(0,5)"
   ]
  }
 ],
 "metadata": {
  "kernelspec": {
   "display_name": "Python 3 (ipykernel)",
   "language": "python",
   "name": "python3"
  },
  "language_info": {
   "codemirror_mode": {
    "name": "ipython",
    "version": 3
   },
   "file_extension": ".py",
   "mimetype": "text/x-python",
   "name": "python",
   "nbconvert_exporter": "python",
   "pygments_lexer": "ipython3",
   "version": "3.8.11"
  }
 },
 "nbformat": 4,
 "nbformat_minor": 5
}
