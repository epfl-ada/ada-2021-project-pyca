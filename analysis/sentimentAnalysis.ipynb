{
 "cells": [
  {
   "cell_type": "code",
   "execution_count": 1,
   "id": "fb4b407a",
   "metadata": {},
   "outputs": [],
   "source": [
    "# Initial imports and variable definitions\n",
    "import os\n",
    "import re\n",
    "import glob\n",
    "import string\n",
    "import datetime\n",
    "from tqdm.notebook import tqdm\n",
    "import pandas as pd\n",
    "import numpy as np\n",
    "import seaborn as sns\n",
    "import spacy\n",
    "from spacy.lang.en.stop_words import STOP_WORDS\n",
    "from spacy.lang.en import English\n",
    "import en_core_web_sm\n",
    "from afinn import Afinn\n",
    "import matplotlib.pyplot as plt\n",
    "import scipy as sc\n",
    "from empath import Empath\n",
    "\n",
    "tqdm.pandas()\n",
    "nlp = spacy.load(\"en_core_web_sm\")\n",
    "\n",
    "DATA_DIR = \"../data/\"\n",
    "ASSETS_DIR = \"../assets/\""
   ]
  },
  {
   "cell_type": "markdown",
   "id": "988b72d1",
   "metadata": {},
   "source": [
    "This notebook consists of two parts:\n",
    "- analysis of the quotes related to the top movies\n",
    "- some visualisations"
   ]
  },
  {
   "cell_type": "markdown",
   "id": "729e7e8c",
   "metadata": {},
   "source": [
    "## 1. Load Data"
   ]
  },
  {
   "cell_type": "code",
   "execution_count": 2,
   "id": "b3476b2a",
   "metadata": {},
   "outputs": [],
   "source": [
    "# Load the quotes that mention the top 50 movies\n",
    "# Generated in mergeDataSets/linkQuotesToMovies.ipynb\n",
    "quotes = pd.read_csv(DATA_DIR + \"50moviesquotes.csv.gz\")"
   ]
  },
  {
   "cell_type": "markdown",
   "id": "aedc7dbc",
   "metadata": {},
   "source": [
    "The first cleaning stage will consit in removing from the quotes the title of the movies (otherwise the study will have a high bias)"
   ]
  },
  {
   "cell_type": "code",
   "execution_count": 3,
   "id": "48f74f79",
   "metadata": {},
   "outputs": [],
   "source": [
    "# The list of movies for which the quotes have been extracted from the full quote dataset\n",
    "alttitles = dict([\n",
    "    ('Star Wars: Episode VII - The Force Awakens', ['Star Wars', 'The force awakens']),\n",
    "    ('Avengers: Endgame', ['Avengers', 'Endgame']),\n",
    "    ('Black Panther', ['Black Panther']),\n",
    "    ('Avengers: Infinity War', ['Infinity War', 'Avengers']),\n",
    "    ('Jurassic World', ['Jurassic']), # Probably a bad idea but let's see\n",
    "    ('Star Wars: Episode VIII - The Last Jedi', ['Star Wars', 'Last Jedi']),\n",
    "    ('Incredibles 2', ['Incredibles']), # Possibly too broad\n",
    "    ('The Lion King', ['Lion King']),\n",
    "    ('Rogue One: A Star Wars Story', ['Rogue One', 'Star Wars']),\n",
    "    ('Star Wars: Episode IX - The Rise of Skywalker', ['Star Wars', 'Skywalker']),\n",
    "    ('Beauty and the Beast', ['Beauty and the Beast']),\n",
    "    ('Finding Dory', ['Finding Dory']),\n",
    "    ('Frozen II', ['Frozen']), # Probably a bad idea but let's see\n",
    "    ('Avengers: Age of Ultron', ['Avengers', 'Ultron']),\n",
    "    ('Toy Story 4', ['Toy Story']),\n",
    "    ('Captain Marvel', ['Marvel']),\n",
    "    ('Jurassic World: Fallen Kingdom', ['Jurassic', 'Fallen Kingdom']),\n",
    "    ('Captain America: Civil War', ['Captain America', 'Civil War']),\n",
    "    ('Jumanji: Welcome to the Jungle', ['Jumanji', 'Welcome to the Jungle']),\n",
    "    #('Spider-Man: Far from Home', ['Spider-Man', 'Spider Man', 'Far from Home']),\n",
    "    ('Guardians of the Galaxy Vol. 2', ['Guardians of the Galaxy']),\n",
    "    ('The Secret Life of Pets', ['Secret Life of Pets']),\n",
    "    ('The Jungle Book', ['Jungle Book']),\n",
    "    ('Deadpool', ['Deadpool']),\n",
    "    ('Inside Out', ['Inside Out']),\n",
    "    ('Aladdin', ['Aladdin']),\n",
    "    ('Furious 7', ['Furious']), # Probably a bad idea but let's see\n",
    "    ('American Sniper', ['American Sniper']),\n",
    "    ('Zootopia', ['Zootopia']),\n",
    "    ('The Hunger Games: Mockingjay - Part 1', ['Hunger Games', 'Mockingjay']),\n",
    "    ('Minions', ['Minions']), # Possibly too broad\n",
    "    ('Joker', ['Joker']),\n",
    "    ('Aquaman', ['Aquaman']),\n",
    "    ('Spider-Man: Homecoming', ['Spider-Man', 'Spider Man', 'Homecoming']),\n",
    "    ('Batman v Superman: Dawn of Justice', ['Batman', 'Superman', 'Dawn of Justice']),\n",
    "    #('It', []), # just not possible\n",
    "    ('Suicide Squad', ['Suicide Squad']),\n",
    "    ('Jumanji: The Next Level', ['Jumanji', 'The Next Level']),\n",
    "    ('Deadpool 2', ['Deadpool']),\n",
    "    ('Thor: Ragnarok', ['Thor', 'Ragnarok']),\n",
    "    ('The Hunger Games: Mockingjay - Part 2', ['Hunger Games', 'Mockingjay']),\n",
    "    ('The Grinch', ['Grinch']),\n",
    "    ('Sing', ['Sing']), # Probably a bad idea but let's see\n",
    "    ('Despicable Me 3', ['Despicable Me']),\n",
    "    ('The Hobbit: The Battle of the Five Armies', ['Hobbit', 'Battle of the Five Armies']),\n",
    "    ('Moana', ['Moana']),\n",
    "    ('Fantastic Beasts and Where to Find Them', ['Fantastic Beasts']),\n",
    "    ('Doctor Strange', ['Doctor Strange']),\n",
    "    ('Justice League', ['Justice League'])\n",
    "])"
   ]
  },
  {
   "cell_type": "code",
   "execution_count": 4,
   "id": "3d9e1d34",
   "metadata": {},
   "outputs": [],
   "source": [
    "# Remove title and search keys from quotations\n",
    "# To avoid self inference\n",
    "# ie. the title \"Fast and furious\" counts negatively, while it's just the title\n",
    "for movie in alttitles:\n",
    "    for strt in alttitles[movie]:\n",
    "        val = quotes.loc[quotes[\"primaryTitle\"] == movie][\"quotation\"].str.replace(strt, '', case=False)\n",
    "        quotes.loc[quotes[\"primaryTitle\"] == movie, \"quotation\"] = val"
   ]
  },
  {
   "cell_type": "markdown",
   "id": "c377fb51",
   "metadata": {},
   "source": [
    "Cleaning the movie data set"
   ]
  },
  {
   "cell_type": "code",
   "execution_count": 5,
   "id": "4d30b69c",
   "metadata": {},
   "outputs": [],
   "source": [
    "# Load the boxoffice, see movieBoxOffice.ipynb to generate the dataset\n",
    "boxoffice = pd.read_csv(DATA_DIR + \"boxoffice.csv\")\n",
    "\n",
    "# And do some clean up of the data (ie. map the boxoffice value to a readable int)\n",
    "boxoffice[\"boxoffice\"] = boxoffice[\"Gross\"].apply(lambda x:int(x.replace(\"$\",\"\").replace(\",\", \"\")))\n",
    "boxoffice[\"% of Total\"] = pd.to_numeric(boxoffice[\"% of Total\"].str.replace(\"%\",\"\"), errors=\"coerce\")"
   ]
  },
  {
   "cell_type": "markdown",
   "id": "9b9ed947",
   "metadata": {},
   "source": [
    "Merging quotes and boxoffice data"
   ]
  },
  {
   "cell_type": "code",
   "execution_count": 6,
   "id": "9ed870bd",
   "metadata": {},
   "outputs": [],
   "source": [
    "# Merge quotes and boxoffice\n",
    "quotes = pd.merge(left=quotes, right=boxoffice, how=\"left\", left_on=\"primaryTitle\", right_on=\"Release\")\n",
    "\n",
    "# Add a field to count days between quote and release date\n",
    "quotes[\"diff_date\"] = (pd.to_datetime(quotes[\"date\"]) - pd.to_datetime(quotes[\"Release Date\"])).dt.days\n",
    "\n",
    "# Only keep a time window around the release date\n",
    "DELTA_T = 10\n",
    "quotes = quotes[(quotes[\"diff_date\"] < DELTA_T) & (quotes[\"diff_date\"] > -DELTA_T)]"
   ]
  },
  {
   "cell_type": "markdown",
   "id": "51cbcf57",
   "metadata": {},
   "source": [
    "## 2. Sentiment polarity"
   ]
  },
  {
   "cell_type": "code",
   "execution_count": 7,
   "id": "b88ad83b",
   "metadata": {},
   "outputs": [],
   "source": [
    "afn = Afinn()\n",
    "nlp = en_core_web_sm.load()\n",
    "\n",
    "punctuations = string.punctuation\n",
    "#stopwords = list(STOP_WORDS)\n",
    "\n",
    "parser = nlp\n",
    "# Tokenize the given sentence\n",
    "def spacy_tokenizer(sentence):\n",
    "    tokens = parser(sentence)\n",
    "    tokens = [ word.lemma_.lower().strip() if word.lemma_ != \"-PRON-\" else word.lower_ for word in tokens ]\n",
    "    tokens = [ word for word in tokens if word not in punctuations ]\n",
    "    tokens = \" \".join([i for i in tokens])\n",
    "    return tokens\n",
    "\n",
    "# Returns the number of words in the sentence\n",
    "def count_words(s):\n",
    "    return len(s.split())\n",
    "\n",
    "# Returns the sentiment score of the given sentence\n",
    "def sentiment(s):\n",
    "    return afn.score(s)"
   ]
  },
  {
   "cell_type": "code",
   "execution_count": 8,
   "id": "7b05422a",
   "metadata": {},
   "outputs": [],
   "source": [
    "# Apply the tokenizer on the set of quotes\n",
    "# This is relatively long to run (~15min)\n",
    "quotes[\"text_clean\"] = quotes[\"quotation\"].apply(spacy_tokenizer)\n",
    "quotes[\"text\"] = quotes[\"text_clean\"].astype('str')"
   ]
  },
  {
   "cell_type": "code",
   "execution_count": 9,
   "id": "9efd584a",
   "metadata": {},
   "outputs": [],
   "source": [
    "# Extract the sentiment score from the set of quotes\n",
    "quotes[\"sentiment\"] = quotes[\"text\"].apply(sentiment)\n",
    "quotes[\"word_counts\"] = quotes[\"text\"].apply(count_words)"
   ]
  },
  {
   "cell_type": "code",
   "execution_count": 10,
   "id": "e5b1f68d",
   "metadata": {},
   "outputs": [],
   "source": [
    "# Export the dataset containg the sentiment score\n",
    "quotes.to_csv(DATA_DIR + \"50movies_sentiment_polarity.csv.gz\",compression=\"gzip\")"
   ]
  },
  {
   "cell_type": "markdown",
   "id": "4bc7bb03",
   "metadata": {},
   "source": [
    "This dataset can be found at https://drive.google.com/drive/folders/1Kwv7boEYxS1DRev6KCIJLhoYiBRBMHUV?usp=sharing, to avoid having to run everything back again."
   ]
  },
  {
   "cell_type": "markdown",
   "id": "261a6f97",
   "metadata": {},
   "source": [
    "## 3. Emotion Analysis"
   ]
  },
  {
   "cell_type": "code",
   "execution_count": 11,
   "id": "f4fe5a22",
   "metadata": {},
   "outputs": [
    {
     "data": {
      "text/html": [
       "<div>\n",
       "<style scoped>\n",
       "    .dataframe tbody tr th:only-of-type {\n",
       "        vertical-align: middle;\n",
       "    }\n",
       "\n",
       "    .dataframe tbody tr th {\n",
       "        vertical-align: top;\n",
       "    }\n",
       "\n",
       "    .dataframe thead th {\n",
       "        text-align: right;\n",
       "    }\n",
       "</style>\n",
       "<table border=\"1\" class=\"dataframe\">\n",
       "  <thead>\n",
       "    <tr style=\"text-align: right;\">\n",
       "      <th></th>\n",
       "      <th>primaryTitle</th>\n",
       "      <th>% of Total</th>\n",
       "      <th>sentiment</th>\n",
       "      <th>score</th>\n",
       "    </tr>\n",
       "  </thead>\n",
       "  <tbody>\n",
       "    <tr>\n",
       "      <th>0</th>\n",
       "      <td>Star Wars: Episode VII - The Force Awakens</td>\n",
       "      <td>26.5</td>\n",
       "      <td>warmth</td>\n",
       "      <td>0.0</td>\n",
       "    </tr>\n",
       "    <tr>\n",
       "      <th>1</th>\n",
       "      <td>Star Wars: Episode VII - The Force Awakens</td>\n",
       "      <td>26.5</td>\n",
       "      <td>fun</td>\n",
       "      <td>0.0</td>\n",
       "    </tr>\n",
       "    <tr>\n",
       "      <th>2</th>\n",
       "      <td>Star Wars: Episode VII - The Force Awakens</td>\n",
       "      <td>26.5</td>\n",
       "      <td>love</td>\n",
       "      <td>0.0</td>\n",
       "    </tr>\n",
       "    <tr>\n",
       "      <th>3</th>\n",
       "      <td>Star Wars: Episode VII - The Force Awakens</td>\n",
       "      <td>26.5</td>\n",
       "      <td>emotional</td>\n",
       "      <td>0.0</td>\n",
       "    </tr>\n",
       "    <tr>\n",
       "      <th>4</th>\n",
       "      <td>Star Wars: Episode VII - The Force Awakens</td>\n",
       "      <td>26.5</td>\n",
       "      <td>disappointment</td>\n",
       "      <td>0.0</td>\n",
       "    </tr>\n",
       "    <tr>\n",
       "      <th>5</th>\n",
       "      <td>Star Wars: Episode VII - The Force Awakens</td>\n",
       "      <td>26.5</td>\n",
       "      <td>hate</td>\n",
       "      <td>0.0</td>\n",
       "    </tr>\n",
       "    <tr>\n",
       "      <th>6</th>\n",
       "      <td>Star Wars: Episode VII - The Force Awakens</td>\n",
       "      <td>26.5</td>\n",
       "      <td>warmth</td>\n",
       "      <td>0.0</td>\n",
       "    </tr>\n",
       "    <tr>\n",
       "      <th>7</th>\n",
       "      <td>Star Wars: Episode VII - The Force Awakens</td>\n",
       "      <td>26.5</td>\n",
       "      <td>fun</td>\n",
       "      <td>0.0</td>\n",
       "    </tr>\n",
       "    <tr>\n",
       "      <th>8</th>\n",
       "      <td>Star Wars: Episode VII - The Force Awakens</td>\n",
       "      <td>26.5</td>\n",
       "      <td>love</td>\n",
       "      <td>0.0</td>\n",
       "    </tr>\n",
       "    <tr>\n",
       "      <th>9</th>\n",
       "      <td>Star Wars: Episode VII - The Force Awakens</td>\n",
       "      <td>26.5</td>\n",
       "      <td>emotional</td>\n",
       "      <td>0.0</td>\n",
       "    </tr>\n",
       "  </tbody>\n",
       "</table>\n",
       "</div>"
      ],
      "text/plain": [
       "                                 primaryTitle  % of Total       sentiment  \\\n",
       "0  Star Wars: Episode VII - The Force Awakens        26.5          warmth   \n",
       "1  Star Wars: Episode VII - The Force Awakens        26.5             fun   \n",
       "2  Star Wars: Episode VII - The Force Awakens        26.5            love   \n",
       "3  Star Wars: Episode VII - The Force Awakens        26.5       emotional   \n",
       "4  Star Wars: Episode VII - The Force Awakens        26.5  disappointment   \n",
       "5  Star Wars: Episode VII - The Force Awakens        26.5            hate   \n",
       "6  Star Wars: Episode VII - The Force Awakens        26.5          warmth   \n",
       "7  Star Wars: Episode VII - The Force Awakens        26.5             fun   \n",
       "8  Star Wars: Episode VII - The Force Awakens        26.5            love   \n",
       "9  Star Wars: Episode VII - The Force Awakens        26.5       emotional   \n",
       "\n",
       "   score  \n",
       "0    0.0  \n",
       "1    0.0  \n",
       "2    0.0  \n",
       "3    0.0  \n",
       "4    0.0  \n",
       "5    0.0  \n",
       "6    0.0  \n",
       "7    0.0  \n",
       "8    0.0  \n",
       "9    0.0  "
      ]
     },
     "execution_count": 11,
     "metadata": {},
     "output_type": "execute_result"
    }
   ],
   "source": [
    "# Get the sentiment from each quote\n",
    "# Long to run ~25min\n",
    "\n",
    "lexicon = Empath()\n",
    "categories = [\"warmth\", \"fun\", \"love\", \"emotional\", \"disappointment\",\"hate\"]\n",
    "results=[]\n",
    "analysis = pd.DataFrame(columns=[\"primaryTitle\", \"% of Total\", \"sentiment\", \"score\"])\n",
    "\n",
    "for index, row in quotes.iterrows():\n",
    "    experience = lexicon.analyze(row[\"text\"],categories = categories)\n",
    "    \n",
    "    for cat in experience:\n",
    "        analysis = analysis.append({\n",
    "            \"primaryTitle\": row[\"primaryTitle\"],\n",
    "            \"% of Total\": row[\"% of Total\"],\n",
    "            \"sentiment\": cat,\n",
    "            \"score\": experience[cat]\n",
    "        },ignore_index=True)\n",
    "\n",
    "analysis.head(10)"
   ]
  },
  {
   "cell_type": "code",
   "execution_count": 12,
   "id": "60a90340",
   "metadata": {},
   "outputs": [],
   "source": [
    "# Export the produced dataset\n",
    "analysis.to_csv(DATA_DIR + \"50movies_sentiment_emotion.csv.gz\",compression=\"gzip\")"
   ]
  },
  {
   "cell_type": "markdown",
   "id": "82c26c84",
   "metadata": {},
   "source": [
    "This dataset can be found at https://drive.google.com/drive/folders/1Kwv7boEYxS1DRev6KCIJLhoYiBRBMHUV?usp=sharing, to avoid having to run everything back again."
   ]
  },
  {
   "cell_type": "markdown",
   "id": "ad046609",
   "metadata": {},
   "source": [
    "## 4. Visualizations"
   ]
  },
  {
   "cell_type": "markdown",
   "id": "8ca7c535",
   "metadata": {},
   "source": [
    "Reload the data since previous stages are time consuming (40min)"
   ]
  },
  {
   "cell_type": "code",
   "execution_count": 13,
   "id": "3d76cfe0",
   "metadata": {},
   "outputs": [],
   "source": [
    "# Load boxoffice, see movieBoxOffice.ipynb to generate the dataset\n",
    "boxoffice = pd.read_csv(\"../data/boxoffice.csv\")\n",
    "boxoffice[\"boxoffice\"] = boxoffice[\"Gross\"].apply(lambda x:int(x.replace(\"$\",\"\").replace(\",\",\"\")))\n",
    "boxoffice[\"% of Total\"] = pd.to_numeric(boxoffice[\"% of Total\"].str.replace(\"%\",\"\"),errors=\"coerce\")\n",
    "\n",
    "# Load sentiment analysis and sentiment polarity datasets\n",
    "analysis = pd.read_csv(DATA_DIR + \"50movies_sentiment_emotion.csv.gz\")\n",
    "polarity = pd.read_csv(DATA_DIR + \"50movies_sentiment_polarity.csv.gz\")\n",
    "\n",
    "# Remove movies with too much unrelated quotes (ie. Sing)\n",
    "analysis = analysis[analysis[\"primaryTitle\"] != \"Sing\"]\n",
    "polarity = polarity[polarity[\"primaryTitle\"] != \"Sing\"]"
   ]
  },
  {
   "cell_type": "markdown",
   "id": "8c725819",
   "metadata": {},
   "source": [
    "### Emotion analysis"
   ]
  },
  {
   "cell_type": "markdown",
   "id": "d47517ed",
   "metadata": {},
   "source": [
    "1. Split the movies into 3 categories, depending on whether they had a good first week boxoffice result"
   ]
  },
  {
   "cell_type": "code",
   "execution_count": 15,
   "id": "48aa6296",
   "metadata": {},
   "outputs": [],
   "source": [
    "# Split the movies into 3 categories\n",
    "# depending on whether they had a good first week\n",
    "# boxoffice revenue\n",
    "\n",
    "name1 = \"high % first WE\"\n",
    "name2 = \"intermediate score\"\n",
    "name3 = \"high % after first WE\"\n",
    "\n",
    "boxoffice[\"category\"] = (boxoffice[\"% of Total\"] < boxoffice[\"% of Total\"].quantile(q=1/3)) * 1 + \\\n",
    "                        (boxoffice[\"% of Total\"] < boxoffice[\"% of Total\"].quantile(q=2/3)) * 1\n",
    "\n",
    "boxoffice.loc[boxoffice[\"category\"]==0,\"category\"] = name1\n",
    "boxoffice.loc[boxoffice[\"category\"]==1,\"category\"] = name2\n",
    "boxoffice.loc[boxoffice[\"category\"]==2,\"category\"] = name3\n",
    "\n",
    "# Aggregate by movie and sentiment type\n",
    "analysis2 = analysis.groupby([\"primaryTitle\", \"sentiment\"]).agg(score=(\"score\", \"mean\"),\n",
    "                                                                count=(\"primaryTitle\", \"count\")).reset_index()\n",
    "# Keep only if there are at least 20 elements\n",
    "analysis2 = analysis2[analysis2[\"count\"] > 20]\n",
    "\n",
    "# Incorporate movie data\n",
    "analysis3 = pd.merge(left=analysis2,\n",
    "                     right=boxoffice[[\"Release\",\"category\"]],\n",
    "                     how=\"left\",\n",
    "                     left_on=\"primaryTitle\",\n",
    "                     right_on=\"Release\")"
   ]
  },
  {
   "cell_type": "markdown",
   "id": "b23c14a9",
   "metadata": {},
   "source": [
    "2. Plot average score of various sentiment types"
   ]
  },
  {
   "cell_type": "code",
   "execution_count": 16,
   "id": "30bc2d5e",
   "metadata": {},
   "outputs": [
    {
     "name": "stdout",
     "output_type": "stream",
     "text": [
      "p-value for the t-test for warmth: 0.47549362568244724\n",
      "p-value for the t-test for fun: 0.6514577162563874\n",
      "p-value for the t-test for love: 0.11420706807757429\n",
      "p-value for the t-test for emotional: 0.07455874331666544\n",
      "p-value for the t-test for disappointment: 0.8006170811370565\n",
      "p-value for the t-test for hate: 0.031676437110225\n"
     ]
    },
    {
     "data": {
      "image/png": "[encoded data removed]",
      "text/plain": [
       "<Figure size 586.35x432 with 1 Axes>"
      ]
     },
     "metadata": {},
     "output_type": "display_data"
    }
   ],
   "source": [
    "# Plot the average sentiment score of various sentiment types,\n",
    "# splitted depending on whether the movie had a good result\n",
    "# during the first week\n",
    "\n",
    "sns.set_theme(style=\"whitegrid\")\n",
    "\n",
    "analysis3.sort_values(\"category\")\n",
    "g = sns.catplot(\n",
    "    data=analysis3, kind=\"bar\", x=\"sentiment\", y=\"score\",\n",
    "    hue=\"category\", palette=\"colorblind\", alpha=.6, height=6,\n",
    "    hue_order=[name1,name2,name3], order=categories\n",
    ")\n",
    "\n",
    "g.despine(left=True)\n",
    "g.set_axis_labels(\"\", \"average for word term\")\n",
    "g.legend.set_title(\"\")\n",
    "# Export the plot produced\n",
    "plt.savefig(ASSETS_DIR + \"sentimentAnalysis.pdf\")\n",
    "plt.savefig(ASSETS_DIR + \"sentimentAnalysis.png\")\n",
    "plt.plot()\n",
    "\n",
    "# Compute the t-test\n",
    "for cat in categories:\n",
    "    a1 = analysis3[(analysis3[\"sentiment\"] == cat) & (analysis3[\"category\"] == name1)][\"score\"]\n",
    "    a2 = analysis3[(analysis3[\"sentiment\"] == cat) & (analysis3[\"category\"] == name3)][\"score\"]\n",
    "    res = sc.stats.ttest_ind(a1,a2)\n",
    "    print(f\"p-value for the t-test for {cat}: {res[1]}\")"
   ]
  },
  {
   "cell_type": "markdown",
   "id": "e57d2ab5",
   "metadata": {},
   "source": [
    "### Polarity"
   ]
  },
  {
   "cell_type": "code",
   "execution_count": 42,
   "id": "f4f02b8b",
   "metadata": {},
   "outputs": [],
   "source": [
    "# Some functions and variables to plot easily later\n",
    "\n",
    "# The split \n",
    "s1 = 100\n",
    "s2 = 300\n",
    "labels = [f\"# quotes <{s1}\",f\"# quotes in [{s1},{s2}]\",f\"# quotes >{s2}\"]\n",
    "\n",
    "# specify colors manually so that the same column always has the same color\n",
    "# choose colorblind-friendly colors according to \n",
    "# https://davidmathlogic.com/colorblind\n",
    "palette=[[\"#FFC20A\"], [\"#0C7BDC\"], [\"#D41159\"]]\n",
    "\n",
    "def handle_grouped_quotes(quotes_gr):\n",
    "    # Filter low count\n",
    "    quotes_gr = quotes_gr[quotes_gr[\"count\"] > 20].copy()\n",
    "\n",
    "    quotes_gr[\"cat\"] = (quotes_gr[\"count\"] < s1) * 0 +  \\\n",
    "                       (quotes_gr[\"count\"] >= s1) * 1 + \\\n",
    "                       (quotes_gr[\"count\"] > s2) * 1\n",
    "\n",
    "    quotes_gr.sort_values(\"cat\")\n",
    "    return quotes_gr"
   ]
  },
  {
   "cell_type": "code",
   "execution_count": 43,
   "id": "15b33d4a",
   "metadata": {},
   "outputs": [],
   "source": [
    "def handle_plot(quotes_gr, x, xlabel, y, ylabel, exportname):\n",
    "    plt.figure(figsize=(8, 6))\n",
    "\n",
    "    # Plot, with a different color for each category\n",
    "    for i in range(3):\n",
    "        sns.scatterplot(data=quotes_gr[quotes_gr[\"cat\"] == i],\n",
    "                        x=x, y=y,\n",
    "                        s=i * 60 + 100, alpha=1,\n",
    "                        label=labels[i], c=palette[i])\n",
    "\n",
    "    # Compute statistical coefficients\n",
    "    a1 = sc.stats.spearmanr(quotes_gr[x], quotes_gr[y])\n",
    "    b1 = sc.stats.pearsonr(quotes_gr[x], quotes_gr[y])\n",
    "\n",
    "    # Set labels\n",
    "    plt.xlabel(xlabel)\n",
    "    plt.ylabel(ylabel)\n",
    "    plt.title(f\"Spearman Correlation {a1[0]:.2}, p-value {a1[1]:.3}\\n Pearson Correlation {b1[0]:.2}, p-value {b1[1]:.3}\")\n",
    "\n",
    "    # Export the plot produced\n",
    "    plt.savefig(ASSETS_DIR + exportname + \".pdf\")\n",
    "    plt.savefig(ASSETS_DIR + exportname + \".png\")\n",
    "    \n",
    "    plt.legend(title='# quotes related to the movie')\n",
    "    plt.grid(which='major', color='gray', alpha=0.4, linestyle='-')"
   ]
  },
  {
   "cell_type": "markdown",
   "id": "76ccedb2",
   "metadata": {},
   "source": [
    "1. Relation to the total gross"
   ]
  },
  {
   "cell_type": "code",
   "execution_count": 44,
   "id": "694961d0",
   "metadata": {},
   "outputs": [
    {
     "data": {
      "image/png": "[encoded data removed]",
      "text/plain": [
       "<Figure size 576x432 with 1 Axes>"
      ]
     },
     "metadata": {},
     "output_type": "display_data"
    }
   ],
   "source": [
    "# Plot the relation between the average sentiment score and the total gross\n",
    "\n",
    "quotes_gr = polarity.groupby(\"primaryTitle\").agg(\n",
    "    boxoffice=(\"boxoffice\",\"first\"),\n",
    "    sentiment=(\"sentiment\",\"mean\"),\n",
    "    count=(\"boxoffice\",\"count\")\n",
    ").reset_index()\n",
    "\n",
    "quotes_gr = handle_grouped_quotes(quotes_gr)\n",
    "xlabel = \"Average sentiment score for quotes related to the movie near the release date\"\n",
    "ylabel = \"Total Gross ($)\"\n",
    "handle_plot(quotes_gr, \"sentiment\", xlabel, \"boxoffice\", ylabel, \"polarityAnalysis_totalGross\")"
   ]
  },
  {
   "cell_type": "markdown",
   "id": "cc67adfe",
   "metadata": {},
   "source": [
    "2. Relation to perccentage of gross achieved on the first WE"
   ]
  },
  {
   "cell_type": "code",
   "execution_count": 45,
   "id": "77391920",
   "metadata": {},
   "outputs": [
    {
     "data": {
      "image/png": "[encoded data removed]",
      "text/plain": [
       "<Figure size 576x432 with 1 Axes>"
      ]
     },
     "metadata": {},
     "output_type": "display_data"
    }
   ],
   "source": [
    "# Plot the relation between the average sentiment score and first week gross\n",
    "\n",
    "quotes_gr = polarity.groupby(\"primaryTitle\").agg(\n",
    "    percent=(\"% of Total\",\"first\"),\n",
    "    sentiment=(\"sentiment\",\"mean\"),\n",
    "    count=(\"sentiment\",\"count\"),\n",
    "    boxoffice=(\"boxoffice\",\"first\")\n",
    ").reset_index()\n",
    "\n",
    "quotes_gr = handle_grouped_quotes(quotes_gr)\n",
    "ylabel = \"% of Total Gross First WE after release\"\n",
    "handle_plot(quotes_gr, \"sentiment\", xlabel, \"percent\", ylabel, \"polarityAnalysis_percentGross\")"
   ]
  }
 ],
 "metadata": {
  "kernelspec": {
   "display_name": "Python 3 (ipykernel)",
   "language": "python",
   "name": "python3"
  },
  "language_info": {
   "codemirror_mode": {
    "name": "ipython",
    "version": 3
   },
   "file_extension": ".py",
   "mimetype": "text/x-python",
   "name": "python",
   "nbconvert_exporter": "python",
   "pygments_lexer": "ipython3",
   "version": "3.8.11"
  }
 },
 "nbformat": 4,
 "nbformat_minor": 5
}
