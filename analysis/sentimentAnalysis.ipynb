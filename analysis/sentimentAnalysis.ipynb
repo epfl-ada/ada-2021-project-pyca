{
 "cells": [
  {
   "cell_type": "code",
   "execution_count": 1,
   "id": "fb4b407a",
   "metadata": {},
   "outputs": [],
   "source": [
    "from tqdm.notebook import tqdm\n",
    "import pandas as pd\n",
    "import numpy as np\n",
    "import glob\n",
    "import os\n",
    "import re\n",
    "import seaborn as sns\n",
    "import spacy\n",
    "import string\n",
    "from spacy.lang.en.stop_words import STOP_WORDS\n",
    "from spacy.lang.en import English\n",
    "import en_core_web_sm\n",
    "import re\n",
    "import datetime\n",
    "from afinn import Afinn\n",
    "import matplotlib.pyplot as plt\n",
    "tqdm.pandas()\n",
    "import scipy as sc\n",
    "\n",
    "nlp = spacy.load(\"en_core_web_sm\")"
   ]
  },
  {
   "cell_type": "markdown",
   "id": "729e7e8c",
   "metadata": {},
   "source": [
    "## Load the data"
   ]
  },
  {
   "cell_type": "code",
   "execution_count": 110,
   "id": "b3476b2a",
   "metadata": {},
   "outputs": [],
   "source": [
    "# quotes\n",
    "quotes = pd.read_csv(\"../data/50moviesquotes.csv.gz\")"
   ]
  },
  {
   "cell_type": "code",
   "execution_count": 122,
   "id": "48f74f79",
   "metadata": {},
   "outputs": [],
   "source": [
    "alttitles = dict([\n",
    "    ('Star Wars: Episode VII - The Force Awakens', ['Star Wars', 'The force awakens']),\n",
    "    ('Avengers: Endgame', ['Avengers', 'Endgame']),\n",
    "    ('Black Panther', ['Black Panther']),\n",
    "    ('Avengers: Infinity War', ['Infinity War', 'Avengers']),\n",
    "    ('Jurassic World', ['Jurassic']), # Probably a bad idea but let's see\n",
    "    ('Star Wars: Episode VIII - The Last Jedi', ['Star Wars', 'Last Jedi']),\n",
    "    ('Incredibles 2', ['Incredibles']), # Possibly too broad\n",
    "    ('The Lion King', ['Lion King']),\n",
    "    ('Rogue One: A Star Wars Story', ['Rogue One', 'Star Wars']),\n",
    "    ('Star Wars: Episode IX - The Rise of Skywalker', ['Star Wars', 'Skywalker']),\n",
    "    ('Beauty and the Beast', ['Beauty and the Beast']),\n",
    "    ('Finding Dory', ['Finding Dory']),\n",
    "    ('Frozen II', ['Frozen']), # Probably a bad idea but let's see\n",
    "    ('Avengers: Age of Ultron', ['Avengers', 'Ultron']),\n",
    "    ('Toy Story 4', ['Toy Story']),\n",
    "    ('Captain Marvel', ['Marvel']),\n",
    "    ('Jurassic World: Fallen Kingdom', ['Jurassic', 'Fallen Kingdom']),\n",
    "    ('Captain America: Civil War', ['Captain America', 'Civil War']),\n",
    "    ('Jumanji: Welcome to the Jungle', ['Jumanji', 'Welcome to the Jungle']),\n",
    "    #('Spider-Man: Far from Home', ['Spider-Man', 'Spider Man', 'Far from Home']),\n",
    "    ('Guardians of the Galaxy Vol. 2', ['Guardians of the Galaxy']),\n",
    "    ('The Secret Life of Pets', ['Secret Life of Pets']),\n",
    "    ('The Jungle Book', ['Jungle Book']),\n",
    "    ('Deadpool', ['Deadpool']),\n",
    "    ('Inside Out', ['Inside Out']),\n",
    "    ('Aladdin', ['Aladdin']),\n",
    "    ('Furious 7', ['Furious']), # Probably a bad idea but let's see\n",
    "    ('American Sniper', ['American Sniper']),\n",
    "    ('Zootopia', ['Zootopia']),\n",
    "    ('The Hunger Games: Mockingjay - Part 1', ['Hunger Games', 'Mockingjay']),\n",
    "    ('Minions', ['Minions']), # Possibly too broad\n",
    "    ('Joker', ['Joker']),\n",
    "    ('Aquaman', ['Aquaman']),\n",
    "    ('Spider-Man: Homecoming', ['Spider-Man', 'Spider Man', 'Homecoming']),\n",
    "    ('Batman v Superman: Dawn of Justice', ['Batman', 'Superman', 'Dawn of Justice']),\n",
    "    #('It', []), # just not possible\n",
    "    ('Suicide Squad', ['Suicide Squad']),\n",
    "    ('Jumanji: The Next Level', ['Jumanji', 'The Next Level']),\n",
    "    ('Deadpool 2', ['Deadpool']),\n",
    "    ('Thor: Ragnarok', ['Thor', 'Ragnarok']),\n",
    "    ('The Hunger Games: Mockingjay - Part 2', ['Hunger Games', 'Mockingjay']),\n",
    "    ('The Grinch', ['Grinch']),\n",
    "    ('Sing', ['Sing']), # Probably a bad idea but let's see\n",
    "    ('Despicable Me 3', ['Despicable Me']),\n",
    "    ('The Hobbit: The Battle of the Five Armies', ['Hobbit', 'Battle of the Five Armies']),\n",
    "    ('Moana', ['Moana']),\n",
    "    ('Fantastic Beasts and Where to Find Them', ['Fantastic Beasts']),\n",
    "    ('Doctor Strange', ['Doctor Strange']),\n",
    "    ('Justice League', ['Justice League'])\n",
    "])"
   ]
  },
  {
   "cell_type": "code",
   "execution_count": 123,
   "id": "3d9e1d34",
   "metadata": {},
   "outputs": [],
   "source": [
    "# remove title from quotations\n",
    "for movie in alttitles:\n",
    "    for strt in alttitles[movie]:\n",
    "        val = quotes.loc[quotes[\"primaryTitle\"]==movie][\"quotation\"].str.replace(strt, '',case=False)\n",
    "        quotes.loc[quotes[\"primaryTitle\"]==movie,\"quotation\"] = val"
   ]
  },
  {
   "cell_type": "code",
   "execution_count": 124,
   "id": "4d30b69c",
   "metadata": {},
   "outputs": [],
   "source": [
    "# boxoffice see movieBoxOffice.ipynb to generate the dataset\n",
    "boxoffice = pd.read_csv(\"../data/boxoffice.csv\")\n",
    "boxoffice[\"boxoffice\"] = boxoffice[\"Gross\"].apply(lambda x:int(x.replace(\"$\",\"\").replace(\",\",\"\")))\n",
    "boxoffice[\"% of Total\"] = pd.to_numeric(boxoffice[\"% of Total\"].str.replace(\"%\",\"\"),errors=\"coerce\")"
   ]
  },
  {
   "cell_type": "code",
   "execution_count": 125,
   "id": "9ed870bd",
   "metadata": {},
   "outputs": [],
   "source": [
    "# merge quotes and boxoffice\n",
    "quotes = pd.merge(left=quotes,right=boxoffice,how=\"left\",left_on=\"primaryTitle\",right_on=\"Release\")\n",
    "# add a field to count days between quote and release date\n",
    "quotes[\"diff_date\"] = (pd.to_datetime(quotes[\"date\"]) - pd.to_datetime(quotes[\"Release Date\"])).dt.days\n",
    "# only keep around a window\n",
    "DELTA_T = 10\n",
    "quotes = quotes[(quotes[\"diff_date\"]<DELTA_T)&(quotes[\"diff_date\"]>-DELTA_T)]\n"
   ]
  },
  {
   "cell_type": "markdown",
   "id": "51cbcf57",
   "metadata": {},
   "source": [
    "## Sentiment polarity"
   ]
  },
  {
   "cell_type": "code",
   "execution_count": 126,
   "id": "b88ad83b",
   "metadata": {},
   "outputs": [],
   "source": [
    "afn = Afinn()\n",
    "\n",
    "nlp = en_core_web_sm.load()\n",
    "\n",
    "punctuations = string.punctuation\n",
    "#stopwords = list(STOP_WORDS)\n",
    "\n",
    "parser = nlp\n",
    "def spacy_tokenizer(sentence):\n",
    "    tokens = parser(sentence)\n",
    "    tokens = [ word.lemma_.lower().strip() if word.lemma_ != \"-PRON-\" else word.lower_ for word in tokens ]\n",
    "    tokens = [ word for word in tokens if word not in punctuations ]\n",
    "    tokens = \" \".join([i for i in tokens])\n",
    "    return tokens\n",
    "\n",
    "def count_words(s):\n",
    "    return len(s.split())\n",
    "\n",
    "def sentiment(s):\n",
    "    return afn.score(s)"
   ]
  },
  {
   "cell_type": "code",
   "execution_count": 127,
   "id": "7b05422a",
   "metadata": {},
   "outputs": [],
   "source": [
    "quotes[\"text_clean\"] = quotes[\"quotation\"].apply(spacy_tokenizer)\n",
    "quotes[\"text\"] = quotes[\"text_clean\"].astype('str')"
   ]
  },
  {
   "cell_type": "code",
   "execution_count": 128,
   "id": "9efd584a",
   "metadata": {},
   "outputs": [],
   "source": [
    "quotes[\"sentiment\"] = quotes[\"text\"].apply(sentiment)\n",
    "quotes[\"word_counts\"] = quotes[\"text\"].apply(count_words)"
   ]
  },
  {
   "cell_type": "markdown",
   "id": "28cda91f",
   "metadata": {},
   "source": [
    "### Plot the results"
   ]
  },
  {
   "cell_type": "code",
   "execution_count": 232,
   "id": "cddff741",
   "metadata": {},
   "outputs": [
    {
     "name": "stderr",
     "output_type": "stream",
     "text": [
      "/Users/goujon/opt/anaconda3/envs/ada/lib/python3.8/site-packages/seaborn/_decorators.py:36: FutureWarning: Pass the following variables as keyword args: x, y. From version 0.12, the only valid positional argument will be `data`, and passing other arguments without an explicit keyword will result in an error or misinterpretation.\n",
      "  warnings.warn(\n"
     ]
    },
    {
     "data": {
      "text/plain": [
       "(0.0, 6.0)"
      ]
     },
     "execution_count": 232,
     "metadata": {},
     "output_type": "execute_result"
    },
    {
     "data": {
      "image/png": "[encoded data removed]",
      "text/plain": [
       "<Figure size 432x288 with 1 Axes>"
      ]
     },
     "metadata": {
      "needs_background": "light"
     },
     "output_type": "display_data"
    }
   ],
   "source": [
    "#plt.figure(figsize=(3,4))\n",
    "quotes_gr1 = quotes[(quotes[\"diff_date\"]>-10)&(quotes[\"diff_date\"]<10)&(quotes[\"primaryTitle\"]!=\"Sing\")].groupby(\"primaryTitle\").agg(percent=(\"% of Total\",\"first\"),sentiment=(\"sentiment\",\"mean\"),count=(\"sentiment\",\"count\"),boxoffice=(\"boxoffice\",\"first\")).reset_index()\n",
    "quotes_gr1 = quotes_gr1[quotes_gr1[\"count\"]>20]\n",
    "cmap = np.array([(1,0,0),(2,0,0),(3,0,0)])/4\n",
    "cat = (quotes_gr1[\"count\"]<80)*0+(quotes_gr1[\"count\"]>=80)*1 + (quotes_gr1[\"count\"]>200)*1\n",
    "sns.scatterplot(quotes_gr1[\"sentiment\"],quotes_gr1[\"percent\"],s=quotes_gr1[\"boxoffice\"]/0.5e7,c=cmap[cat])\n",
    "plt.xlabel(\"Average sentiment score\")\n",
    "plt.ylabel(\"% of Total Gross First WE\")\n",
    "a1 = sc.stats.spearmanr(quotes_gr1[\"sentiment\"],quotes_gr1[\"percent\"])\n",
    "b1 = sc.stats.pearsonr(quotes_gr1[\"sentiment\"],quotes_gr1[\"percent\"])\n",
    "plt.title(f\"Spearman Correlation {a1[0]:.2}, p-value {a1[1]:.3}\\n Pearson Correlation {b1[0]:.2}, p-value {b1[1]:.3}\")\n",
    "plt.grid()\n",
    "plt.xlim(0,6)"
   ]
  },
  {
   "cell_type": "code",
   "execution_count": 235,
   "id": "e759ccad",
   "metadata": {},
   "outputs": [
    {
     "name": "stderr",
     "output_type": "stream",
     "text": [
      "/Users/goujon/opt/anaconda3/envs/ada/lib/python3.8/site-packages/seaborn/_decorators.py:36: FutureWarning: Pass the following variables as keyword args: x, y. From version 0.12, the only valid positional argument will be `data`, and passing other arguments without an explicit keyword will result in an error or misinterpretation.\n",
      "  warnings.warn(\n"
     ]
    },
    {
     "data": {
      "image/png": "[encoded data removed]",
      "text/plain": [
       "<Figure size 432x288 with 1 Axes>"
      ]
     },
     "metadata": {
      "needs_background": "light"
     },
     "output_type": "display_data"
    }
   ],
   "source": [
    "quotes_gr2 = quotes[(quotes[\"diff_date\"]>-100)&(quotes[\"diff_date\"]<100)].groupby(\"primaryTitle\").agg(boxoffice=(\"boxoffice\",\"first\"),sentiment=(\"sentiment\",\"mean\")).reset_index()\n",
    "sns.scatterplot(quotes_gr2[\"sentiment\"],quotes_gr2[\"boxoffice\"])\n",
    "plt.xlabel(\"Average sentiment score\")\n",
    "plt.ylabel(\"Total Gross\")\n",
    "#spearman correlation\n",
    "a2 = sc.stats.spearmanr(quotes_gr2[\"sentiment\"],quotes_gr2[\"boxoffice\"])\n",
    "plt.title(f\"Spearman Correlation {a2[0]:.2}, p-value {a2[1]:.3}\")\n",
    "plt.grid()"
   ]
  }
 ],
 "metadata": {
  "kernelspec": {
   "display_name": "Python 3 (ipykernel)",
   "language": "python",
   "name": "python3"
  },
  "language_info": {
   "codemirror_mode": {
    "name": "ipython",
    "version": 3
   },
   "file_extension": ".py",
   "mimetype": "text/x-python",
   "name": "python",
   "nbconvert_exporter": "python",
   "pygments_lexer": "ipython3",
   "version": "3.8.11"
  }
 },
 "nbformat": 4,
 "nbformat_minor": 5
}
