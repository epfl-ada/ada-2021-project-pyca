{
 "cells": [
  {
   "cell_type": "markdown",
   "metadata": {},
   "source": [
    "### Read Quote Bank\n",
    "1. Download *quotes-201N.json.bz2*\n",
    "2. Run the code below"
   ]
  },
  {
   "cell_type": "code",
   "execution_count": 1,
   "metadata": {},
   "outputs": [],
   "source": [
    "import pandas as pd"
   ]
  },
  {
   "cell_type": "code",
   "execution_count": null,
   "metadata": {},
   "outputs": [],
   "source": [
    "def process_chunk(chunk):\n",
    "    print(f'Processing chunk with {len(chunk)} rows')\n",
    "    print(chunk.columns)\n",
    "    #here you can filter etc\n",
    " \n",
    "# read df chunk by chunk, long! \n",
    "with pd.read_json('quotes-2015.json.bz2', lines=True, compression='bz2', chunksize=1000000) as df_reader:\n",
    "    for i,chunk in enumerate(df_reader):\n",
    "        print(i)\n",
    "        process_chunk(chunk)"
   ]
  }
 ],
 "metadata": {
  "interpreter": {
   "hash": "a86a4b7091467e9dbe510d559843be3d273c980ca88bd3a06e5470324dd8b111"
  },
  "kernelspec": {
   "display_name": "Python 3.7.0 64-bit ('py37': conda)",
   "name": "python3"
  },
  "language_info": {
   "codemirror_mode": {
    "name": "ipython",
    "version": 3
   },
   "file_extension": ".py",
   "mimetype": "text/x-python",
   "name": "python",
   "nbconvert_exporter": "python",
   "pygments_lexer": "ipython3",
   "version": "3.7.0"
  },
  "orig_nbformat": 4
 },
 "nbformat": 4,
 "nbformat_minor": 2
}
