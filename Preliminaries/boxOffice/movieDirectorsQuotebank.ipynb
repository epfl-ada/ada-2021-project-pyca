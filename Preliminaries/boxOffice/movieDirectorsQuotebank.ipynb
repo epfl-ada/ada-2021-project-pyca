{
 "cells": [
  {
   "cell_type": "markdown",
   "metadata": {},
   "source": [
    "In this notebook we want to assess the feasibility of the project.\n",
    "- first naive test: count the quotes made by movie directors of the top 200 US movies released in 2015.\n",
    "## Find quotations by Film Directors"
   ]
  },
  {
   "cell_type": "code",
   "execution_count": 28,
   "metadata": {},
   "outputs": [
    {
     "ename": "ImportError",
     "evalue": "dlopen(/Users/goujon/opt/anaconda3/lib/python3.8/site-packages/PIL/_imaging.cpython-38-darwin.so, 2): Library not loaded: @rpath/libjpeg.9.dylib\n  Referenced from: /Users/goujon/opt/anaconda3/lib/python3.8/site-packages/PIL/_imaging.cpython-38-darwin.so\n  Reason: Incompatible library version: _imaging.cpython-38-darwin.so requires version 14.0.0 or later, but libjpeg.9.dylib provides version 12.0.0",
     "output_type": "error",
     "traceback": [
      "\u001b[0;31m---------------------------------------------------------------------------\u001b[0m",
      "\u001b[0;31mImportError\u001b[0m                               Traceback (most recent call last)",
      "\u001b[0;32m/var/folders/ps/1m_sqz1s639d3_5z340t63h00000gn/T/ipykernel_62728/1492400551.py\u001b[0m in \u001b[0;36m<module>\u001b[0;34m\u001b[0m\n\u001b[1;32m      1\u001b[0m \u001b[0;32mimport\u001b[0m \u001b[0mpandas\u001b[0m \u001b[0;32mas\u001b[0m \u001b[0mpd\u001b[0m\u001b[0;34m\u001b[0m\u001b[0;34m\u001b[0m\u001b[0m\n\u001b[0;32m----> 2\u001b[0;31m \u001b[0;32mimport\u001b[0m \u001b[0mmatplotlib\u001b[0m\u001b[0;34m.\u001b[0m\u001b[0mpyplot\u001b[0m \u001b[0;32mas\u001b[0m \u001b[0mplt\u001b[0m\u001b[0;34m\u001b[0m\u001b[0;34m\u001b[0m\u001b[0m\n\u001b[0m",
      "\u001b[0;32m~/opt/anaconda3/lib/python3.8/site-packages/matplotlib/__init__.py\u001b[0m in \u001b[0;36m<module>\u001b[0;34m\u001b[0m\n\u001b[1;32m    105\u001b[0m \u001b[0;31m# cbook must import matplotlib only within function\u001b[0m\u001b[0;34m\u001b[0m\u001b[0;34m\u001b[0m\u001b[0;34m\u001b[0m\u001b[0m\n\u001b[1;32m    106\u001b[0m \u001b[0;31m# definitions, so it is safe to import from it here.\u001b[0m\u001b[0;34m\u001b[0m\u001b[0;34m\u001b[0m\u001b[0;34m\u001b[0m\u001b[0m\n\u001b[0;32m--> 107\u001b[0;31m \u001b[0;32mfrom\u001b[0m \u001b[0;34m.\u001b[0m \u001b[0;32mimport\u001b[0m \u001b[0m_api\u001b[0m\u001b[0;34m,\u001b[0m \u001b[0mcbook\u001b[0m\u001b[0;34m,\u001b[0m \u001b[0mdocstring\u001b[0m\u001b[0;34m,\u001b[0m \u001b[0mrcsetup\u001b[0m\u001b[0;34m\u001b[0m\u001b[0;34m\u001b[0m\u001b[0m\n\u001b[0m\u001b[1;32m    108\u001b[0m \u001b[0;32mfrom\u001b[0m \u001b[0mmatplotlib\u001b[0m\u001b[0;34m.\u001b[0m\u001b[0mcbook\u001b[0m \u001b[0;32mimport\u001b[0m \u001b[0mMatplotlibDeprecationWarning\u001b[0m\u001b[0;34m,\u001b[0m \u001b[0msanitize_sequence\u001b[0m\u001b[0;34m\u001b[0m\u001b[0;34m\u001b[0m\u001b[0m\n\u001b[1;32m    109\u001b[0m \u001b[0;32mfrom\u001b[0m \u001b[0mmatplotlib\u001b[0m\u001b[0;34m.\u001b[0m\u001b[0mcbook\u001b[0m \u001b[0;32mimport\u001b[0m \u001b[0mmplDeprecation\u001b[0m  \u001b[0;31m# deprecated\u001b[0m\u001b[0;34m\u001b[0m\u001b[0;34m\u001b[0m\u001b[0m\n",
      "\u001b[0;32m~/opt/anaconda3/lib/python3.8/site-packages/matplotlib/rcsetup.py\u001b[0m in \u001b[0;36m<module>\u001b[0;34m\u001b[0m\n\u001b[1;32m     22\u001b[0m \u001b[0;32mimport\u001b[0m \u001b[0mnumpy\u001b[0m \u001b[0;32mas\u001b[0m \u001b[0mnp\u001b[0m\u001b[0;34m\u001b[0m\u001b[0;34m\u001b[0m\u001b[0m\n\u001b[1;32m     23\u001b[0m \u001b[0;34m\u001b[0m\u001b[0m\n\u001b[0;32m---> 24\u001b[0;31m \u001b[0;32mfrom\u001b[0m \u001b[0mmatplotlib\u001b[0m \u001b[0;32mimport\u001b[0m \u001b[0m_api\u001b[0m\u001b[0;34m,\u001b[0m \u001b[0manimation\u001b[0m\u001b[0;34m,\u001b[0m \u001b[0mcbook\u001b[0m\u001b[0;34m\u001b[0m\u001b[0;34m\u001b[0m\u001b[0m\n\u001b[0m\u001b[1;32m     25\u001b[0m \u001b[0;32mfrom\u001b[0m \u001b[0mmatplotlib\u001b[0m\u001b[0;34m.\u001b[0m\u001b[0mcbook\u001b[0m \u001b[0;32mimport\u001b[0m \u001b[0mls_mapper\u001b[0m\u001b[0;34m\u001b[0m\u001b[0;34m\u001b[0m\u001b[0m\n\u001b[1;32m     26\u001b[0m \u001b[0;32mfrom\u001b[0m \u001b[0mmatplotlib\u001b[0m\u001b[0;34m.\u001b[0m\u001b[0mcolors\u001b[0m \u001b[0;32mimport\u001b[0m \u001b[0mColormap\u001b[0m\u001b[0;34m,\u001b[0m \u001b[0mis_color_like\u001b[0m\u001b[0;34m\u001b[0m\u001b[0;34m\u001b[0m\u001b[0m\n",
      "\u001b[0;32m~/opt/anaconda3/lib/python3.8/site-packages/matplotlib/animation.py\u001b[0m in \u001b[0;36m<module>\u001b[0;34m\u001b[0m\n\u001b[1;32m     32\u001b[0m \u001b[0;34m\u001b[0m\u001b[0m\n\u001b[1;32m     33\u001b[0m \u001b[0;32mimport\u001b[0m \u001b[0mnumpy\u001b[0m \u001b[0;32mas\u001b[0m \u001b[0mnp\u001b[0m\u001b[0;34m\u001b[0m\u001b[0;34m\u001b[0m\u001b[0m\n\u001b[0;32m---> 34\u001b[0;31m \u001b[0;32mfrom\u001b[0m \u001b[0mPIL\u001b[0m \u001b[0;32mimport\u001b[0m \u001b[0mImage\u001b[0m\u001b[0;34m\u001b[0m\u001b[0;34m\u001b[0m\u001b[0m\n\u001b[0m\u001b[1;32m     35\u001b[0m \u001b[0;34m\u001b[0m\u001b[0m\n\u001b[1;32m     36\u001b[0m \u001b[0;32mimport\u001b[0m \u001b[0mmatplotlib\u001b[0m \u001b[0;32mas\u001b[0m \u001b[0mmpl\u001b[0m\u001b[0;34m\u001b[0m\u001b[0;34m\u001b[0m\u001b[0m\n",
      "\u001b[0;32m~/opt/anaconda3/lib/python3.8/site-packages/PIL/Image.py\u001b[0m in \u001b[0;36m<module>\u001b[0;34m\u001b[0m\n\u001b[1;32m    112\u001b[0m     \u001b[0;31m# Also note that Image.core is not a publicly documented interface,\u001b[0m\u001b[0;34m\u001b[0m\u001b[0;34m\u001b[0m\u001b[0;34m\u001b[0m\u001b[0m\n\u001b[1;32m    113\u001b[0m     \u001b[0;31m# and should be considered private and subject to change.\u001b[0m\u001b[0;34m\u001b[0m\u001b[0;34m\u001b[0m\u001b[0;34m\u001b[0m\u001b[0m\n\u001b[0;32m--> 114\u001b[0;31m     \u001b[0;32mfrom\u001b[0m \u001b[0;34m.\u001b[0m \u001b[0;32mimport\u001b[0m \u001b[0m_imaging\u001b[0m \u001b[0;32mas\u001b[0m \u001b[0mcore\u001b[0m\u001b[0;34m\u001b[0m\u001b[0;34m\u001b[0m\u001b[0m\n\u001b[0m\u001b[1;32m    115\u001b[0m \u001b[0;34m\u001b[0m\u001b[0m\n\u001b[1;32m    116\u001b[0m     \u001b[0;32mif\u001b[0m \u001b[0m__version__\u001b[0m \u001b[0;34m!=\u001b[0m \u001b[0mgetattr\u001b[0m\u001b[0;34m(\u001b[0m\u001b[0mcore\u001b[0m\u001b[0;34m,\u001b[0m \u001b[0;34m\"PILLOW_VERSION\"\u001b[0m\u001b[0;34m,\u001b[0m \u001b[0;32mNone\u001b[0m\u001b[0;34m)\u001b[0m\u001b[0;34m:\u001b[0m\u001b[0;34m\u001b[0m\u001b[0;34m\u001b[0m\u001b[0m\n",
      "\u001b[0;31mImportError\u001b[0m: dlopen(/Users/goujon/opt/anaconda3/lib/python3.8/site-packages/PIL/_imaging.cpython-38-darwin.so, 2): Library not loaded: @rpath/libjpeg.9.dylib\n  Referenced from: /Users/goujon/opt/anaconda3/lib/python3.8/site-packages/PIL/_imaging.cpython-38-darwin.so\n  Reason: Incompatible library version: _imaging.cpython-38-darwin.so requires version 14.0.0 or later, but libjpeg.9.dylib provides version 12.0.0"
     ]
    }
   ],
   "source": [
    "import pandas as pd\n",
    "import matplotlib.pyplot as plt"
   ]
  },
  {
   "cell_type": "code",
   "execution_count": 2,
   "metadata": {},
   "outputs": [],
   "source": [
    "#directors\n",
    "df1 = pd.read_csv(\"movie_data_2015.csv\")\n"
   ]
  },
  {
   "cell_type": "code",
   "execution_count": 18,
   "metadata": {},
   "outputs": [
    {
     "name": "stdout",
     "output_type": "stream",
     "text": [
      "(1593, 9)\n",
      "(3264, 9)\n",
      "(4925, 9)\n",
      "(6576, 9)\n",
      "(8209, 9)\n",
      "(9803, 9)\n",
      "(11442, 9)\n",
      "(13076, 9)\n",
      "(14727, 9)\n",
      "(16416, 9)\n",
      "(18054, 9)\n",
      "(19694, 9)\n",
      "(21351, 9)\n",
      "(23026, 9)\n",
      "(24757, 9)\n",
      "(26356, 9)\n",
      "(27990, 9)\n",
      "(29667, 9)\n",
      "(31309, 9)\n",
      "(32991, 9)\n",
      "(34456, 9)\n"
     ]
    }
   ],
   "source": [
    "def process_chunk(chunk):\n",
    "    print(f'Processing chunk with {len(chunk)} rows')\n",
    "    print(chunk.columns)\n",
    "    #here you can filter etc\n",
    " \n",
    "# read df chunk by chunk, long! \n",
    "with pd.read_json('../../data/quotes-2015.json.bz2', lines=True, compression='bz2', chunksize=1000000) as df_reader:\n",
    "    for i,chunk in enumerate(df_reader):\n",
    "        if i == 0:\n",
    "            quotes = chunk[chunk[\"speaker\"].isin(df1[\"primaryName\"])]\n",
    "        else:\n",
    "            quotes = pd.concat((quotes,chunk[chunk[\"speaker\"].isin(df1[\"primaryName\"])]))\n",
    "        print(quotes.shape)"
   ]
  },
  {
   "cell_type": "markdown",
   "metadata": {},
   "source": [
    "**30K citations founds :)**"
   ]
  },
  {
   "cell_type": "code",
   "execution_count": 21,
   "metadata": {},
   "outputs": [
    {
     "data": {
      "text/html": [
       "<div>\n",
       "<style scoped>\n",
       "    .dataframe tbody tr th:only-of-type {\n",
       "        vertical-align: middle;\n",
       "    }\n",
       "\n",
       "    .dataframe tbody tr th {\n",
       "        vertical-align: top;\n",
       "    }\n",
       "\n",
       "    .dataframe thead th {\n",
       "        text-align: right;\n",
       "    }\n",
       "</style>\n",
       "<table border=\"1\" class=\"dataframe\">\n",
       "  <thead>\n",
       "    <tr style=\"text-align: right;\">\n",
       "      <th></th>\n",
       "      <th>quoteID</th>\n",
       "      <th>quotation</th>\n",
       "      <th>speaker</th>\n",
       "      <th>qids</th>\n",
       "      <th>date</th>\n",
       "      <th>numOccurrences</th>\n",
       "      <th>probas</th>\n",
       "      <th>urls</th>\n",
       "      <th>phase</th>\n",
       "    </tr>\n",
       "  </thead>\n",
       "  <tbody>\n",
       "    <tr>\n",
       "      <th>863</th>\n",
       "      <td>2015-09-24-035864</td>\n",
       "      <td>I grab him by the lapels and I say, `Listen yo...</td>\n",
       "      <td>Nancy Meyers</td>\n",
       "      <td>[Q235555]</td>\n",
       "      <td>2015-09-24 17:09:15</td>\n",
       "      <td>1</td>\n",
       "      <td>[[Nancy Meyers, 0.6738], [None, 0.2175], [De N...</td>\n",
       "      <td>[http://nzherald.co.nz/entertainment/news/arti...</td>\n",
       "      <td>E</td>\n",
       "    </tr>\n",
       "    <tr>\n",
       "      <th>895</th>\n",
       "      <td>2015-12-09-037719</td>\n",
       "      <td>I had a rule with my casting director Cindy To...</td>\n",
       "      <td>F. Gary Gray</td>\n",
       "      <td>[Q462078]</td>\n",
       "      <td>2015-12-09 22:20:00</td>\n",
       "      <td>3</td>\n",
       "      <td>[[F. Gary Gray, 0.777], [None, 0.1783], [Ice C...</td>\n",
       "      <td>[http://feeds.people.com/~r/people/headlines/~...</td>\n",
       "      <td>E</td>\n",
       "    </tr>\n",
       "    <tr>\n",
       "      <th>903</th>\n",
       "      <td>2015-08-23-019512</td>\n",
       "      <td>I had done a lot of movies about male mentorship,</td>\n",
       "      <td>Paul Weitz</td>\n",
       "      <td>[Q1968839, Q536632]</td>\n",
       "      <td>2015-08-23 12:00:01</td>\n",
       "      <td>1</td>\n",
       "      <td>[[Paul Weitz, 0.8943], [None, 0.1057]]</td>\n",
       "      <td>[http://feeds.theguardian.com/c/34708/f/663890...</td>\n",
       "      <td>E</td>\n",
       "    </tr>\n",
       "    <tr>\n",
       "      <th>1465</th>\n",
       "      <td>2015-03-24-030447</td>\n",
       "      <td>I never got into [ the production ] too much b...</td>\n",
       "      <td>James Wan</td>\n",
       "      <td>[Q374286]</td>\n",
       "      <td>2015-03-24 12:25:46</td>\n",
       "      <td>2</td>\n",
       "      <td>[[James Wan, 0.6586], [None, 0.2488], [Will Sm...</td>\n",
       "      <td>[http://craveonline.com/film/articles/838343-e...</td>\n",
       "      <td>E</td>\n",
       "    </tr>\n",
       "    <tr>\n",
       "      <th>1609</th>\n",
       "      <td>2015-08-20-043802</td>\n",
       "      <td>I saw it as a universal story that people go t...</td>\n",
       "      <td>Michael Polish</td>\n",
       "      <td>[Q14087086]</td>\n",
       "      <td>2015-08-20 09:58:00</td>\n",
       "      <td>1</td>\n",
       "      <td>[[Michael Polish, 0.9537], [None, 0.0411], [Ka...</td>\n",
       "      <td>[http://bismarcktribune.com/news/local/a-tale-...</td>\n",
       "      <td>E</td>\n",
       "    </tr>\n",
       "  </tbody>\n",
       "</table>\n",
       "</div>"
      ],
      "text/plain": [
       "                quoteID                                          quotation  \\\n",
       "863   2015-09-24-035864  I grab him by the lapels and I say, `Listen yo...   \n",
       "895   2015-12-09-037719  I had a rule with my casting director Cindy To...   \n",
       "903   2015-08-23-019512  I had done a lot of movies about male mentorship,   \n",
       "1465  2015-03-24-030447  I never got into [ the production ] too much b...   \n",
       "1609  2015-08-20-043802  I saw it as a universal story that people go t...   \n",
       "\n",
       "             speaker                 qids                date  numOccurrences  \\\n",
       "863     Nancy Meyers            [Q235555] 2015-09-24 17:09:15               1   \n",
       "895     F. Gary Gray            [Q462078] 2015-12-09 22:20:00               3   \n",
       "903       Paul Weitz  [Q1968839, Q536632] 2015-08-23 12:00:01               1   \n",
       "1465       James Wan            [Q374286] 2015-03-24 12:25:46               2   \n",
       "1609  Michael Polish          [Q14087086] 2015-08-20 09:58:00               1   \n",
       "\n",
       "                                                 probas  \\\n",
       "863   [[Nancy Meyers, 0.6738], [None, 0.2175], [De N...   \n",
       "895   [[F. Gary Gray, 0.777], [None, 0.1783], [Ice C...   \n",
       "903              [[Paul Weitz, 0.8943], [None, 0.1057]]   \n",
       "1465  [[James Wan, 0.6586], [None, 0.2488], [Will Sm...   \n",
       "1609  [[Michael Polish, 0.9537], [None, 0.0411], [Ka...   \n",
       "\n",
       "                                                   urls phase  \n",
       "863   [http://nzherald.co.nz/entertainment/news/arti...     E  \n",
       "895   [http://feeds.people.com/~r/people/headlines/~...     E  \n",
       "903   [http://feeds.theguardian.com/c/34708/f/663890...     E  \n",
       "1465  [http://craveonline.com/film/articles/838343-e...     E  \n",
       "1609  [http://bismarcktribune.com/news/local/a-tale-...     E  "
      ]
     },
     "execution_count": 21,
     "metadata": {},
     "output_type": "execute_result"
    }
   ],
   "source": [
    "quotes.head()"
   ]
  },
  {
   "cell_type": "code",
   "execution_count": 23,
   "metadata": {},
   "outputs": [],
   "source": [
    "quotes.to_csv(\"movie_director_quotes_2015.csv.gz\",compression='gzip')"
   ]
  },
  {
   "cell_type": "code",
   "execution_count": 38,
   "metadata": {},
   "outputs": [
    {
     "data": {
      "text/html": [
       "<div>\n",
       "<style scoped>\n",
       "    .dataframe tbody tr th:only-of-type {\n",
       "        vertical-align: middle;\n",
       "    }\n",
       "\n",
       "    .dataframe tbody tr th {\n",
       "        vertical-align: top;\n",
       "    }\n",
       "\n",
       "    .dataframe thead th {\n",
       "        text-align: right;\n",
       "    }\n",
       "</style>\n",
       "<table border=\"1\" class=\"dataframe\">\n",
       "  <thead>\n",
       "    <tr style=\"text-align: right;\">\n",
       "      <th></th>\n",
       "      <th>count</th>\n",
       "    </tr>\n",
       "    <tr>\n",
       "      <th>speaker</th>\n",
       "      <th></th>\n",
       "    </tr>\n",
       "  </thead>\n",
       "  <tbody>\n",
       "    <tr>\n",
       "      <th>J.J. Abrams</th>\n",
       "      <td>2062</td>\n",
       "    </tr>\n",
       "    <tr>\n",
       "      <th>Quentin Tarantino</th>\n",
       "      <td>1787</td>\n",
       "    </tr>\n",
       "    <tr>\n",
       "      <th>Steven Spielberg</th>\n",
       "      <td>1131</td>\n",
       "    </tr>\n",
       "    <tr>\n",
       "      <th>George Miller</th>\n",
       "      <td>1124</td>\n",
       "    </tr>\n",
       "    <tr>\n",
       "      <th>Spike Lee</th>\n",
       "      <td>1069</td>\n",
       "    </tr>\n",
       "    <tr>\n",
       "      <th>...</th>\n",
       "      <td>...</td>\n",
       "    </tr>\n",
       "    <tr>\n",
       "      <th>Jon Gunn</th>\n",
       "      <td>5</td>\n",
       "    </tr>\n",
       "    <tr>\n",
       "      <th>Steve Pink</th>\n",
       "      <td>4</td>\n",
       "    </tr>\n",
       "    <tr>\n",
       "      <th>Joe Menendez</th>\n",
       "      <td>4</td>\n",
       "    </tr>\n",
       "    <tr>\n",
       "      <th>Lilly Wachowski</th>\n",
       "      <td>1</td>\n",
       "    </tr>\n",
       "    <tr>\n",
       "      <th>Walt Becker</th>\n",
       "      <td>1</td>\n",
       "    </tr>\n",
       "  </tbody>\n",
       "</table>\n",
       "<p>145 rows × 1 columns</p>\n",
       "</div>"
      ],
      "text/plain": [
       "                   count\n",
       "speaker                 \n",
       "J.J. Abrams         2062\n",
       "Quentin Tarantino   1787\n",
       "Steven Spielberg    1131\n",
       "George Miller       1124\n",
       "Spike Lee           1069\n",
       "...                  ...\n",
       "Jon Gunn               5\n",
       "Steve Pink             4\n",
       "Joe Menendez           4\n",
       "Lilly Wachowski        1\n",
       "Walt Becker            1\n",
       "\n",
       "[145 rows x 1 columns]"
      ]
     },
     "execution_count": 38,
     "metadata": {},
     "output_type": "execute_result"
    }
   ],
   "source": [
    "quotes.groupby(\"speaker\").agg(count=(\"speaker\",\"count\")).sort_values([\"count\"],ascending=False)"
   ]
  },
  {
   "cell_type": "code",
   "execution_count": null,
   "metadata": {},
   "outputs": [],
   "source": []
  }
 ],
 "metadata": {
  "interpreter": {
   "hash": "9f8870407c6424c1f03f1b1cdcb3fbf24c9d6289522f77da81bb0977d0ebdd7c"
  },
  "kernelspec": {
   "display_name": "Python 3.8.8 64-bit ('base': conda)",
   "name": "python3"
  },
  "language_info": {
   "codemirror_mode": {
    "name": "ipython",
    "version": 3
   },
   "file_extension": ".py",
   "mimetype": "text/x-python",
   "name": "python",
   "nbconvert_exporter": "python",
   "pygments_lexer": "ipython3",
   "version": "3.8.8"
  },
  "orig_nbformat": 4
 },
 "nbformat": 4,
 "nbformat_minor": 2
}
