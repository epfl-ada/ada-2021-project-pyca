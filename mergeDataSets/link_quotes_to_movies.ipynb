{
 "cells": [
  {
   "cell_type": "markdown",
   "metadata": {},
   "source": [
    "## Notebook to draw links between quotebank and our movie dataset\n",
    "In this notebook we join our two datasets: quotes and movies.\n",
    "Our first method simply draw links on the speaker of the quote: was the speaker part of the movie crew (as director/main actors/actrices)."
   ]
  },
  {
   "cell_type": "code",
   "execution_count": 1,
   "metadata": {},
   "outputs": [],
   "source": [
    "import pandas as pd\n",
    "import matplotlib.pyplot as plt\n",
    "from tqdm import tqdm"
   ]
  },
  {
   "cell_type": "markdown",
   "metadata": {},
   "source": [
    "We run the code separately for each year of interest."
   ]
  },
  {
   "cell_type": "code",
   "execution_count": 2,
   "metadata": {},
   "outputs": [],
   "source": [
    "year = \"2020\"\n",
    "#open movie crew data set\n",
    "df1 = pd.read_csv(\"../moviePreprocessing/movie_data_2015_2020.csv\")\n",
    "df1.head()\n",
    "#remove some categories, if not we would have for e.g. Joe Biden as an actor because of an archive footage\n",
    "df1 = df1[df1[\"category\"]!=\"archive_footage\"]\n",
    "df1 = df1[df1[\"characters\"]!=\"[\\\"Self\\\"]\"]"
   ]
  },
  {
   "cell_type": "code",
   "execution_count": 3,
   "metadata": {},
   "outputs": [
    {
     "name": "stderr",
     "output_type": "stream",
     "text": [
      "Number of quotes 137757: : 525it [04:25,  1.98it/s]\n"
     ]
    }
   ],
   "source": [
    "# read df chunk by chunk, long! \n",
    "with pd.read_json(f'../dataGitIgnore/quoteBank/quotes-{year}.json.bz2', lines=True, compression='bz2', chunksize=10000) as df_reader:\n",
    "    pbar = tqdm(df_reader)\n",
    "    for i,chunk in enumerate(pbar):\n",
    "        if i == 0:\n",
    "            quotes = chunk[chunk[\"speaker\"].isin(df1[\"primaryName\"])]\n",
    "        else:\n",
    "            quotes = pd.concat((quotes,chunk[chunk[\"speaker\"].isin(df1[\"primaryName\"])]))\n",
    "        pbar.set_description(f\"Number of quotes {quotes.shape[0]}\")"
   ]
  },
  {
   "cell_type": "code",
   "execution_count": 4,
   "metadata": {},
   "outputs": [
    {
     "name": "stdout",
     "output_type": "stream",
     "text": [
      "**137757 citations founds :)**\n"
     ]
    }
   ],
   "source": [
    "print(f\"**{quotes.shape[0]} citations founds :)**\")"
   ]
  },
  {
   "cell_type": "code",
   "execution_count": 5,
   "metadata": {},
   "outputs": [
    {
     "data": {
      "text/html": [
       "<div>\n",
       "<style scoped>\n",
       "    .dataframe tbody tr th:only-of-type {\n",
       "        vertical-align: middle;\n",
       "    }\n",
       "\n",
       "    .dataframe tbody tr th {\n",
       "        vertical-align: top;\n",
       "    }\n",
       "\n",
       "    .dataframe thead th {\n",
       "        text-align: right;\n",
       "    }\n",
       "</style>\n",
       "<table border=\"1\" class=\"dataframe\">\n",
       "  <thead>\n",
       "    <tr style=\"text-align: right;\">\n",
       "      <th></th>\n",
       "      <th>quoteID</th>\n",
       "      <th>quotation</th>\n",
       "      <th>speaker</th>\n",
       "      <th>qids</th>\n",
       "      <th>date</th>\n",
       "      <th>numOccurrences</th>\n",
       "      <th>probas</th>\n",
       "      <th>urls</th>\n",
       "      <th>phase</th>\n",
       "    </tr>\n",
       "  </thead>\n",
       "  <tbody>\n",
       "    <tr>\n",
       "      <th>22</th>\n",
       "      <td>2020-04-01-000532</td>\n",
       "      <td>7pm is when most hospitals change shifts. That...</td>\n",
       "      <td>Amy Schumer</td>\n",
       "      <td>[Q4749380]</td>\n",
       "      <td>2020-04-01 11:25:48</td>\n",
       "      <td>1</td>\n",
       "      <td>[[Amy Schumer, 0.9294], [None, 0.0625], [Andy ...</td>\n",
       "      <td>[https://www.buzzfeed.com/benhenry/amy-schumer...</td>\n",
       "      <td>E</td>\n",
       "    </tr>\n",
       "    <tr>\n",
       "      <th>153</th>\n",
       "      <td>2020-02-03-006814</td>\n",
       "      <td>As Graham [ Norton ] was saying, tonight is al...</td>\n",
       "      <td>Brad Pitt</td>\n",
       "      <td>[Q35332, Q373912]</td>\n",
       "      <td>2020-02-03 10:38:47</td>\n",
       "      <td>1</td>\n",
       "      <td>[[Brad Pitt, 0.3642], [None, 0.254], [Margot R...</td>\n",
       "      <td>[http://www.independent.co.uk/arts-entertainme...</td>\n",
       "      <td>E</td>\n",
       "    </tr>\n",
       "    <tr>\n",
       "      <th>211</th>\n",
       "      <td>2020-02-02-004706</td>\n",
       "      <td>Because this hardworking talented human of min...</td>\n",
       "      <td>Ashwiny Iyer Tiwari</td>\n",
       "      <td>[Q28012317]</td>\n",
       "      <td>2020-02-02 05:14:15</td>\n",
       "      <td>2</td>\n",
       "      <td>[[Ashwiny Iyer Tiwari, 0.4128], [None, 0.3853]...</td>\n",
       "      <td>[https://www.hindustantimes.com/bollywood/kang...</td>\n",
       "      <td>E</td>\n",
       "    </tr>\n",
       "    <tr>\n",
       "      <th>216</th>\n",
       "      <td>2020-01-29-010817</td>\n",
       "      <td>Beggin' On You Knees.</td>\n",
       "      <td>Halston Sage</td>\n",
       "      <td>[Q513169]</td>\n",
       "      <td>2020-01-29 00:00:00</td>\n",
       "      <td>1</td>\n",
       "      <td>[[Halston Sage, 0.7748], [None, 0.1437], [Zac ...</td>\n",
       "      <td>[https://hollywoodlife.com/feature/who-is-hals...</td>\n",
       "      <td>E</td>\n",
       "    </tr>\n",
       "    <tr>\n",
       "      <th>256</th>\n",
       "      <td>2020-04-06-006580</td>\n",
       "      <td>But it's definitely the peak of his NBA career.</td>\n",
       "      <td>Kobe Bryant</td>\n",
       "      <td>[Q25369]</td>\n",
       "      <td>2020-04-06 01:03:01</td>\n",
       "      <td>1</td>\n",
       "      <td>[[Kobe Bryant, 0.4337], [None, 0.2996], [Rob P...</td>\n",
       "      <td>[http://full.gulf-times.com/story/660128/Kobe-...</td>\n",
       "      <td>E</td>\n",
       "    </tr>\n",
       "  </tbody>\n",
       "</table>\n",
       "</div>"
      ],
      "text/plain": [
       "               quoteID                                          quotation  \\\n",
       "22   2020-04-01-000532  7pm is when most hospitals change shifts. That...   \n",
       "153  2020-02-03-006814  As Graham [ Norton ] was saying, tonight is al...   \n",
       "211  2020-02-02-004706  Because this hardworking talented human of min...   \n",
       "216  2020-01-29-010817                              Beggin' On You Knees.   \n",
       "256  2020-04-06-006580    But it's definitely the peak of his NBA career.   \n",
       "\n",
       "                 speaker               qids                date  \\\n",
       "22           Amy Schumer         [Q4749380] 2020-04-01 11:25:48   \n",
       "153            Brad Pitt  [Q35332, Q373912] 2020-02-03 10:38:47   \n",
       "211  Ashwiny Iyer Tiwari        [Q28012317] 2020-02-02 05:14:15   \n",
       "216         Halston Sage          [Q513169] 2020-01-29 00:00:00   \n",
       "256          Kobe Bryant           [Q25369] 2020-04-06 01:03:01   \n",
       "\n",
       "     numOccurrences                                             probas  \\\n",
       "22                1  [[Amy Schumer, 0.9294], [None, 0.0625], [Andy ...   \n",
       "153               1  [[Brad Pitt, 0.3642], [None, 0.254], [Margot R...   \n",
       "211               2  [[Ashwiny Iyer Tiwari, 0.4128], [None, 0.3853]...   \n",
       "216               1  [[Halston Sage, 0.7748], [None, 0.1437], [Zac ...   \n",
       "256               1  [[Kobe Bryant, 0.4337], [None, 0.2996], [Rob P...   \n",
       "\n",
       "                                                  urls phase  \n",
       "22   [https://www.buzzfeed.com/benhenry/amy-schumer...     E  \n",
       "153  [http://www.independent.co.uk/arts-entertainme...     E  \n",
       "211  [https://www.hindustantimes.com/bollywood/kang...     E  \n",
       "216  [https://hollywoodlife.com/feature/who-is-hals...     E  \n",
       "256  [http://full.gulf-times.com/story/660128/Kobe-...     E  "
      ]
     },
     "execution_count": 5,
     "metadata": {},
     "output_type": "execute_result"
    }
   ],
   "source": [
    "quotes.head()"
   ]
  },
  {
   "cell_type": "code",
   "execution_count": 7,
   "metadata": {},
   "outputs": [],
   "source": [
    "#save to the mergedData folder\n",
    "quotes.to_csv(f\"../dataGitIgnore/mergedData/movie_{year}_crew_quotes.csv.gz\",compression='gzip')"
   ]
  },
  {
   "cell_type": "code",
   "execution_count": 8,
   "metadata": {},
   "outputs": [
    {
     "data": {
      "text/html": [
       "<div>\n",
       "<style scoped>\n",
       "    .dataframe tbody tr th:only-of-type {\n",
       "        vertical-align: middle;\n",
       "    }\n",
       "\n",
       "    .dataframe tbody tr th {\n",
       "        vertical-align: top;\n",
       "    }\n",
       "\n",
       "    .dataframe thead th {\n",
       "        text-align: right;\n",
       "    }\n",
       "</style>\n",
       "<table border=\"1\" class=\"dataframe\">\n",
       "  <thead>\n",
       "    <tr style=\"text-align: right;\">\n",
       "      <th></th>\n",
       "      <th>count</th>\n",
       "    </tr>\n",
       "    <tr>\n",
       "      <th>speaker</th>\n",
       "      <th></th>\n",
       "    </tr>\n",
       "  </thead>\n",
       "  <tbody>\n",
       "    <tr>\n",
       "      <th>Kobe Bryant</th>\n",
       "      <td>3518</td>\n",
       "    </tr>\n",
       "    <tr>\n",
       "      <th>Selena Gomez</th>\n",
       "      <td>1628</td>\n",
       "    </tr>\n",
       "    <tr>\n",
       "      <th>Brad Pitt</th>\n",
       "      <td>1383</td>\n",
       "    </tr>\n",
       "    <tr>\n",
       "      <th>Jennifer Lopez</th>\n",
       "      <td>1292</td>\n",
       "    </tr>\n",
       "    <tr>\n",
       "      <th>Joaquin Phoenix</th>\n",
       "      <td>1278</td>\n",
       "    </tr>\n",
       "    <tr>\n",
       "      <th>...</th>\n",
       "      <td>...</td>\n",
       "    </tr>\n",
       "    <tr>\n",
       "      <th>Francis Lawrence</th>\n",
       "      <td>1</td>\n",
       "    </tr>\n",
       "    <tr>\n",
       "      <th>Fran Walsh</th>\n",
       "      <td>1</td>\n",
       "    </tr>\n",
       "    <tr>\n",
       "      <th>Paul Greengrass</th>\n",
       "      <td>1</td>\n",
       "    </tr>\n",
       "    <tr>\n",
       "      <th>Jordan Vogt-Roberts</th>\n",
       "      <td>1</td>\n",
       "    </tr>\n",
       "    <tr>\n",
       "      <th>Diedrich Bader</th>\n",
       "      <td>1</td>\n",
       "    </tr>\n",
       "  </tbody>\n",
       "</table>\n",
       "<p>2770 rows × 1 columns</p>\n",
       "</div>"
      ],
      "text/plain": [
       "                     count\n",
       "speaker                   \n",
       "Kobe Bryant           3518\n",
       "Selena Gomez          1628\n",
       "Brad Pitt             1383\n",
       "Jennifer Lopez        1292\n",
       "Joaquin Phoenix       1278\n",
       "...                    ...\n",
       "Francis Lawrence         1\n",
       "Fran Walsh               1\n",
       "Paul Greengrass          1\n",
       "Jordan Vogt-Roberts      1\n",
       "Diedrich Bader           1\n",
       "\n",
       "[2770 rows x 1 columns]"
      ]
     },
     "execution_count": 8,
     "metadata": {},
     "output_type": "execute_result"
    }
   ],
   "source": [
    "#check\n",
    "quotes.groupby(\"speaker\").agg(count=(\"speaker\",\"count\")).sort_values([\"count\"],ascending=False)"
   ]
  },
  {
   "cell_type": "code",
   "execution_count": null,
   "metadata": {},
   "outputs": [],
   "source": []
  }
 ],
 "metadata": {
  "interpreter": {
   "hash": "535feb9148a04feb856e0fc880ebc8e4dd5554d5a3f65f80ac0547368bdbd739"
  },
  "kernelspec": {
   "display_name": "Python 3 (ipykernel)",
   "language": "python",
   "name": "python3"
  },
  "language_info": {
   "codemirror_mode": {
    "name": "ipython",
    "version": 3
   },
   "file_extension": ".py",
   "mimetype": "text/x-python",
   "name": "python",
   "nbconvert_exporter": "python",
   "pygments_lexer": "ipython3",
   "version": "3.9.7"
  }
 },
 "nbformat": 4,
 "nbformat_minor": 2
}
