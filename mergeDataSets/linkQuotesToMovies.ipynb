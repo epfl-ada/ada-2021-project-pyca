{
 "cells": [
  {
   "cell_type": "markdown",
   "metadata": {},
   "source": [
    "## Link quotebank and our movie dataset\n",
    "Once again we chose not to upload the Quotebank datasets we use on github because they were too big ; this notebook filters the quotes to only keep those whose author appears in `movie_data_2015_2020.csv`.\n",
    "\n",
    "The two data sources are:\n",
    "- the **QuoteBank datasets** [link](https://zenodo.org/record/4277311) from the year 2015 to 2020 (quotation-centric versions), that have to be downloaded and put in the `data` folder. They contain quotes along with a list of potential authors and their probabilities.\n",
    "- our own **movie dataset** extracted in `movieProcessing`.\n",
    "\n",
    "The initial architecture to run this notebook should be the following:\n",
    "```\n",
    "    .\n",
    "    ├── mergeDataSets\n",
    "    │   └── link_quotes_to_movies.ipynb   # this notebook \n",
    "    └── data/                             # the datasets we need\n",
    "        ├── movie_data_2015_2020.csv      # from the moviePreprocessing notebook\n",
    "        ├── quotes-2015.json.bz2\n",
    "        ├── quotes-2016.json.bz2\n",
    "        ├── quotes-2017.json.bz2\n",
    "        ├── quotes-2018.json.bz2\n",
    "        ├── quotes-2019.json.bz2\n",
    "        └── quotes-2020.json.bz2\n",
    "```\n",
    "where each quotes files comes from the quotation-centric version of the QuoteBank datasets, described at the link above.\n",
    "\n",
    "We simply link the quotes to the actors and crew members from our movie dataset, using the most probable author.\n",
    "\n",
    "**The goal of this notebook is to generate datasets containing the filtered quotes. These datasets will be named `movie_{year}_crew_quotes.csv.gz` (where `{year}` is the year the quote was made) and located in the `data` folder.**"
   ]
  },
  {
   "cell_type": "code",
   "execution_count": 1,
   "metadata": {},
   "outputs": [],
   "source": [
    "# Initial imports\n",
    "import pandas as pd\n",
    "import matplotlib.pyplot as plt\n",
    "from tqdm import tqdm\n",
    "import multiprocessing\n",
    "\n",
    "# Constants to easily update and read the code\n",
    "DATA_DIR = \"../data/\"\n",
    "MOVIE_DATASET = \"movie_data_2015_2020.csv\"\n",
    "START_YEAR = 2015\n",
    "END_YEAR = 2020\n",
    "YEARS = range(START_YEAR, END_YEAR + 1)\n",
    "\n",
    "# Auxiliary functions\n",
    "def quotes_dataset(year):\n",
    "    return f'quotes-{year}.json.bz2'\n",
    "\n",
    "def output_dataset(year):\n",
    "    return f\"movie_{year}_crew_quotes.csv.gz\""
   ]
  },
  {
   "cell_type": "code",
   "execution_count": 2,
   "metadata": {},
   "outputs": [
    {
     "data": {
      "text/html": [
       "<div>\n",
       "<style scoped>\n",
       "    .dataframe tbody tr th:only-of-type {\n",
       "        vertical-align: middle;\n",
       "    }\n",
       "\n",
       "    .dataframe tbody tr th {\n",
       "        vertical-align: top;\n",
       "    }\n",
       "\n",
       "    .dataframe thead th {\n",
       "        text-align: right;\n",
       "    }\n",
       "</style>\n",
       "<table border=\"1\" class=\"dataframe\">\n",
       "  <thead>\n",
       "    <tr style=\"text-align: right;\">\n",
       "      <th></th>\n",
       "      <th>Unnamed: 0</th>\n",
       "      <th>tconst</th>\n",
       "      <th>titleType</th>\n",
       "      <th>primaryTitle</th>\n",
       "      <th>originalTitle</th>\n",
       "      <th>isAdult</th>\n",
       "      <th>startYear</th>\n",
       "      <th>endYear</th>\n",
       "      <th>runtimeMinutes</th>\n",
       "      <th>genres</th>\n",
       "      <th>...</th>\n",
       "      <th>ordering_y</th>\n",
       "      <th>nconst</th>\n",
       "      <th>category</th>\n",
       "      <th>job</th>\n",
       "      <th>characters</th>\n",
       "      <th>primaryName</th>\n",
       "      <th>birthYear</th>\n",
       "      <th>deathYear</th>\n",
       "      <th>primaryProfession</th>\n",
       "      <th>knownForTitles</th>\n",
       "    </tr>\n",
       "  </thead>\n",
       "  <tbody>\n",
       "    <tr>\n",
       "      <th>0</th>\n",
       "      <td>0</td>\n",
       "      <td>tt1179933</td>\n",
       "      <td>movie</td>\n",
       "      <td>10 Cloverfield Lane</td>\n",
       "      <td>10 Cloverfield Lane</td>\n",
       "      <td>0.0</td>\n",
       "      <td>2016.0</td>\n",
       "      <td>NaN</td>\n",
       "      <td>103.0</td>\n",
       "      <td>Action,Drama,Horror</td>\n",
       "      <td>...</td>\n",
       "      <td>10.0</td>\n",
       "      <td>nm6618222</td>\n",
       "      <td>producer</td>\n",
       "      <td>producer</td>\n",
       "      <td>NaN</td>\n",
       "      <td>Lindsey Weber</td>\n",
       "      <td>NaN</td>\n",
       "      <td>NaN</td>\n",
       "      <td>producer</td>\n",
       "      <td>tt4530422,tt2660888,tt2548396,tt1179933</td>\n",
       "    </tr>\n",
       "    <tr>\n",
       "      <th>1</th>\n",
       "      <td>1</td>\n",
       "      <td>tt4530422</td>\n",
       "      <td>movie</td>\n",
       "      <td>Overlord</td>\n",
       "      <td>Overlord</td>\n",
       "      <td>0.0</td>\n",
       "      <td>2018.0</td>\n",
       "      <td>NaN</td>\n",
       "      <td>110.0</td>\n",
       "      <td>Action,Horror,Sci-Fi</td>\n",
       "      <td>...</td>\n",
       "      <td>9.0</td>\n",
       "      <td>nm6618222</td>\n",
       "      <td>producer</td>\n",
       "      <td>producer</td>\n",
       "      <td>NaN</td>\n",
       "      <td>Lindsey Weber</td>\n",
       "      <td>NaN</td>\n",
       "      <td>NaN</td>\n",
       "      <td>producer</td>\n",
       "      <td>tt4530422,tt2660888,tt2548396,tt1179933</td>\n",
       "    </tr>\n",
       "    <tr>\n",
       "      <th>2</th>\n",
       "      <td>2</td>\n",
       "      <td>tt1179933</td>\n",
       "      <td>movie</td>\n",
       "      <td>10 Cloverfield Lane</td>\n",
       "      <td>10 Cloverfield Lane</td>\n",
       "      <td>0.0</td>\n",
       "      <td>2016.0</td>\n",
       "      <td>NaN</td>\n",
       "      <td>103.0</td>\n",
       "      <td>Action,Drama,Horror</td>\n",
       "      <td>...</td>\n",
       "      <td>1.0</td>\n",
       "      <td>nm0000422</td>\n",
       "      <td>actor</td>\n",
       "      <td>NaN</td>\n",
       "      <td>[\"Howard\"]</td>\n",
       "      <td>John Goodman</td>\n",
       "      <td>1952.0</td>\n",
       "      <td>NaN</td>\n",
       "      <td>actor,soundtrack,producer</td>\n",
       "      <td>tt0101410,tt1179933,tt1024648,tt1907668</td>\n",
       "    </tr>\n",
       "    <tr>\n",
       "      <th>3</th>\n",
       "      <td>3</td>\n",
       "      <td>tt2406566</td>\n",
       "      <td>movie</td>\n",
       "      <td>Atomic Blonde</td>\n",
       "      <td>Atomic Blonde</td>\n",
       "      <td>0.0</td>\n",
       "      <td>2017.0</td>\n",
       "      <td>NaN</td>\n",
       "      <td>115.0</td>\n",
       "      <td>Action,Thriller</td>\n",
       "      <td>...</td>\n",
       "      <td>3.0</td>\n",
       "      <td>nm0000422</td>\n",
       "      <td>actor</td>\n",
       "      <td>NaN</td>\n",
       "      <td>[\"Emmett Kurzfeld\"]</td>\n",
       "      <td>John Goodman</td>\n",
       "      <td>1952.0</td>\n",
       "      <td>NaN</td>\n",
       "      <td>actor,soundtrack,producer</td>\n",
       "      <td>tt0101410,tt1179933,tt1024648,tt1907668</td>\n",
       "    </tr>\n",
       "    <tr>\n",
       "      <th>4</th>\n",
       "      <td>4</td>\n",
       "      <td>tt5968394</td>\n",
       "      <td>movie</td>\n",
       "      <td>Captive State</td>\n",
       "      <td>Captive State</td>\n",
       "      <td>0.0</td>\n",
       "      <td>2019.0</td>\n",
       "      <td>NaN</td>\n",
       "      <td>109.0</td>\n",
       "      <td>Action,Horror,Sci-Fi</td>\n",
       "      <td>...</td>\n",
       "      <td>1.0</td>\n",
       "      <td>nm0000422</td>\n",
       "      <td>actor</td>\n",
       "      <td>NaN</td>\n",
       "      <td>[\"William Mulligan\"]</td>\n",
       "      <td>John Goodman</td>\n",
       "      <td>1952.0</td>\n",
       "      <td>NaN</td>\n",
       "      <td>actor,soundtrack,producer</td>\n",
       "      <td>tt0101410,tt1179933,tt1024648,tt1907668</td>\n",
       "    </tr>\n",
       "  </tbody>\n",
       "</table>\n",
       "<p>5 rows × 39 columns</p>\n",
       "</div>"
      ],
      "text/plain": [
       "   Unnamed: 0     tconst titleType         primaryTitle        originalTitle  \\\n",
       "0           0  tt1179933     movie  10 Cloverfield Lane  10 Cloverfield Lane   \n",
       "1           1  tt4530422     movie             Overlord             Overlord   \n",
       "2           2  tt1179933     movie  10 Cloverfield Lane  10 Cloverfield Lane   \n",
       "3           3  tt2406566     movie        Atomic Blonde        Atomic Blonde   \n",
       "4           4  tt5968394     movie        Captive State        Captive State   \n",
       "\n",
       "   isAdult  startYear  endYear  runtimeMinutes                genres  ...  \\\n",
       "0      0.0     2016.0      NaN           103.0   Action,Drama,Horror  ...   \n",
       "1      0.0     2018.0      NaN           110.0  Action,Horror,Sci-Fi  ...   \n",
       "2      0.0     2016.0      NaN           103.0   Action,Drama,Horror  ...   \n",
       "3      0.0     2017.0      NaN           115.0       Action,Thriller  ...   \n",
       "4      0.0     2019.0      NaN           109.0  Action,Horror,Sci-Fi  ...   \n",
       "\n",
       "  ordering_y     nconst  category       job            characters  \\\n",
       "0       10.0  nm6618222  producer  producer                   NaN   \n",
       "1        9.0  nm6618222  producer  producer                   NaN   \n",
       "2        1.0  nm0000422     actor       NaN            [\"Howard\"]   \n",
       "3        3.0  nm0000422     actor       NaN   [\"Emmett Kurzfeld\"]   \n",
       "4        1.0  nm0000422     actor       NaN  [\"William Mulligan\"]   \n",
       "\n",
       "     primaryName birthYear  deathYear          primaryProfession  \\\n",
       "0  Lindsey Weber       NaN        NaN                   producer   \n",
       "1  Lindsey Weber       NaN        NaN                   producer   \n",
       "2   John Goodman    1952.0        NaN  actor,soundtrack,producer   \n",
       "3   John Goodman    1952.0        NaN  actor,soundtrack,producer   \n",
       "4   John Goodman    1952.0        NaN  actor,soundtrack,producer   \n",
       "\n",
       "                            knownForTitles  \n",
       "0  tt4530422,tt2660888,tt2548396,tt1179933  \n",
       "1  tt4530422,tt2660888,tt2548396,tt1179933  \n",
       "2  tt0101410,tt1179933,tt1024648,tt1907668  \n",
       "3  tt0101410,tt1179933,tt1024648,tt1907668  \n",
       "4  tt0101410,tt1179933,tt1024648,tt1907668  \n",
       "\n",
       "[5 rows x 39 columns]"
      ]
     },
     "execution_count": 2,
     "metadata": {},
     "output_type": "execute_result"
    }
   ],
   "source": [
    "# Open movie data set\n",
    "moviedata = pd.read_csv(DATA_DIR + MOVIE_DATASET)\n",
    "moviedata.head()"
   ]
  },
  {
   "cell_type": "code",
   "execution_count": 3,
   "metadata": {},
   "outputs": [],
   "source": [
    "# Remove some categories, if not we would have\n",
    "# e.g. Joe Biden as an actor because of an archive footage\n",
    "\n",
    "# Remove archive movies\n",
    "moviedata = moviedata[moviedata[\"category\"] != \"archive_footage\"]\n",
    "# Remove biopics (movies where the actors is his own character)\n",
    "moviedata = moviedata[moviedata[\"characters\"] != \"[\\\"Self\\\"]\"]"
   ]
  },
  {
   "cell_type": "markdown",
   "metadata": {},
   "source": [
    "We run the code separately for each year of interest."
   ]
  },
  {
   "cell_type": "code",
   "execution_count": 4,
   "metadata": {},
   "outputs": [],
   "source": [
    "# Reads the given year's quotes and filters those whose speaker is in the movie dataset\n",
    "# (whether it's an actor, the director, or any other)\n",
    "def handleYear(year):\n",
    "    # We read the dataset by chunks because it is too big\n",
    "    # Warning: it takes a long time\n",
    "    with pd.read_json(DATA_DIR + quotes_dataset(year), lines=True, chunksize=10000) as df_reader:\n",
    "\n",
    "        # Concatenate the quotes whose speaker are in the movie dataset\n",
    "        quotes = pd.DataFrame()\n",
    "        # Use tqdm to display a progress bar (it takes a long time)\n",
    "        pbar = tqdm(df_reader)\n",
    "        for chunk in pbar:\n",
    "            quotes = pd.concat((quotes,chunk[chunk[\"speaker\"].isin(moviedata[\"primaryName\"])]))\n",
    "            pbar.set_description(f\"({year}) Number of quotes extracted = {quotes.shape[0]}\")\n",
    "\n",
    "    print(f\"Year {year}: {quotes.shape[0]} quotes extracted\")\n",
    "    #quotes.head()\n",
    "    \n",
    "    # Save to the data folder\n",
    "    quotes.to_csv(DATA_DIR + output_dataset(year), compression='gzip')\n",
    "    \n",
    "    # Display the speakers and their citation count, in descending order\n",
    "    # (just to check)\n",
    "    #quotes.groupby(\"speaker\").agg(count=(\"speaker\",\"count\")).sort_values([\"count\"],ascending=False)"
   ]
  },
  {
   "cell_type": "code",
   "execution_count": 5,
   "metadata": {},
   "outputs": [
    {
     "name": "stderr",
     "output_type": "stream",
     "text": [
      "(2020) Number of quotes extracted = 137760: : 525it [08:16,  1.06it/s]\n"
     ]
    },
    {
     "name": "stdout",
     "output_type": "stream",
     "text": [
      "Year 2020: 137760 quotes extracted\n"
     ]
    },
    {
     "name": "stderr",
     "output_type": "stream",
     "text": [
      "(2016) Number of quotes extracted = 339622: : 1387it [29:12,  1.26s/it]\n"
     ]
    },
    {
     "name": "stdout",
     "output_type": "stream",
     "text": [
      "Year 2016: 339622 quotes extracted\n"
     ]
    },
    {
     "name": "stderr",
     "output_type": "stream",
     "text": [
      "(2015) Number of quotes extracted = 502457: : 2088it [38:37,  1.11s/it]\n"
     ]
    },
    {
     "name": "stdout",
     "output_type": "stream",
     "text": [
      "Year 2015: 502457 quotes extracted\n"
     ]
    },
    {
     "name": "stderr",
     "output_type": "stream",
     "text": [
      "(2019) Number of quotes extracted = 549496: : 2177it [41:01,  1.13s/it]\n"
     ]
    },
    {
     "name": "stdout",
     "output_type": "stream",
     "text": [
      "Year 2019: 549496 quotes extracted\n"
     ]
    },
    {
     "name": "stderr",
     "output_type": "stream",
     "text": [
      "(2018) Number of quotes extracted = 662315: : 2723it [48:57,  1.08s/it]\n"
     ]
    },
    {
     "name": "stdout",
     "output_type": "stream",
     "text": [
      "Year 2018: 662315 quotes extracted\n"
     ]
    },
    {
     "name": "stderr",
     "output_type": "stream",
     "text": [
      "(2017) Number of quotes extracted = 652761: : 2662it [49:58,  1.13s/it]\n"
     ]
    },
    {
     "name": "stdout",
     "output_type": "stream",
     "text": [
      "Year 2017: 652761 quotes extracted\n"
     ]
    }
   ],
   "source": [
    "# Run all jobs in parallel\n",
    "# The progress bars don't render well but it's better than nothing.\n",
    "# (and specifying a position for the bars doesn't renders well either)\n",
    "\n",
    "jobs = []\n",
    "for year in YEARS:\n",
    "    job = multiprocessing.Process(target=lambda: handleYear(year))\n",
    "    jobs.append(job)\n",
    "    job.start()\n",
    "\n",
    "# Wait for each job to finish.\n",
    "for job in jobs:\n",
    "    job.join()"
   ]
  }
 ],
 "metadata": {
  "interpreter": {
   "hash": "535feb9148a04feb856e0fc880ebc8e4dd5554d5a3f65f80ac0547368bdbd739"
  },
  "kernelspec": {
   "display_name": "Python 3 (ipykernel)",
   "language": "python",
   "name": "python3"
  },
  "language_info": {
   "codemirror_mode": {
    "name": "ipython",
    "version": 3
   },
   "file_extension": ".py",
   "mimetype": "text/x-python",
   "name": "python",
   "nbconvert_exporter": "python",
   "pygments_lexer": "ipython3",
   "version": "3.9.7"
  }
 },
 "nbformat": 4,
 "nbformat_minor": 2
}
